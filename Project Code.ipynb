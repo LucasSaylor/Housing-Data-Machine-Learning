{
 "cells": [
  {
   "cell_type": "code",
   "execution_count": 256,
   "metadata": {},
   "outputs": [],
   "source": [
    "import pandas as pd\n",
    "import numpy as np\n",
    "from sklearn.impute import SimpleImputer\n",
    "from sklearn.linear_model import LinearRegression, LassoCV, RidgeCV\n",
    "from sklearn.model_selection import train_test_split\n",
    "\n",
    "from sklearn.metrics import mean_squared_error, r2_score, mean_absolute_error\n",
    "from sklearn.neighbors import KNeighborsRegressor\n",
    "from sklearn.model_selection import train_test_split, cross_val_score\n",
    "from sklearn.preprocessing import StandardScaler, PolynomialFeatures\n",
    "from sklearn.pipeline import make_pipeline, Pipeline,FeatureUnion\n",
    "from sklearn.linear_model import Lasso, LinearRegression, Ridge\n",
    "from sklearn.model_selection import KFold, GridSearchCV\n",
    "from sklearn.tree import DecisionTreeRegressor\n",
    "from sklearn.svm import SVR\n",
    "from sklearn.ensemble import ExtraTreesRegressor\n",
    "from sklearn.compose import ColumnTransformer\n",
    "import warnings\n",
    "warnings.filterwarnings('ignore')"
   ]
  },
  {
   "cell_type": "code",
   "execution_count": 257,
   "metadata": {},
   "outputs": [],
   "source": [
    "import requests\n",
    "\n",
    "url = \"https://realtor.p.rapidapi.com/properties/v2/list-sold\"\n",
    "\n",
    "querystring = {\"radius\":\"20\",\"sort\":\"sold_date\",\"city\":\"Vancouver\",\"offset\":\"0\",\"state_code\":\"WA\",\"limit\":\"500\"}\n",
    "\n",
    "headers = {\n",
    "    'x-rapidapi-host': \"realtor.p.rapidapi.com\",\n",
    "    'x-rapidapi-key': \"API KEY\"\n",
    "    }\n",
    "\n",
    "response_Vancouver = requests.request(\"GET\", url, headers=headers, params=querystring)\n",
    "\n",
    "\n",
    "#print(response.text)"
   ]
  },
  {
   "cell_type": "code",
   "execution_count": 258,
   "metadata": {},
   "outputs": [],
   "source": [
    "import json\n",
    "from pandas.io.json import json_normalize\n",
    "import pandas as pd\n",
    "\n",
    "response_data_Vancouver = json.loads(response_Vancouver.text)\n",
    "df = json_normalize(response_data['properties'])\n",
    "\n",
    "\n"
   ]
  },
  {
   "cell_type": "code",
   "execution_count": 168,
   "metadata": {},
   "outputs": [],
   "source": [
    "buildings = df[['prop_type','year_built','beds','baths_full','garage','baths_half','price','baths','address.city','address.state','address.postal_code','address.county','lot_size.size','building_size.size']]"
   ]
  },
  {
   "cell_type": "code",
   "execution_count": 169,
   "metadata": {},
   "outputs": [
    {
     "data": {
      "text/html": [
       "<div>\n",
       "<style scoped>\n",
       "    .dataframe tbody tr th:only-of-type {\n",
       "        vertical-align: middle;\n",
       "    }\n",
       "\n",
       "    .dataframe tbody tr th {\n",
       "        vertical-align: top;\n",
       "    }\n",
       "\n",
       "    .dataframe thead th {\n",
       "        text-align: right;\n",
       "    }\n",
       "</style>\n",
       "<table border=\"1\" class=\"dataframe\">\n",
       "  <thead>\n",
       "    <tr style=\"text-align: right;\">\n",
       "      <th></th>\n",
       "      <th>prop_type</th>\n",
       "      <th>year_built</th>\n",
       "      <th>beds</th>\n",
       "      <th>baths_full</th>\n",
       "      <th>garage</th>\n",
       "      <th>baths_half</th>\n",
       "      <th>price</th>\n",
       "      <th>baths</th>\n",
       "      <th>address.city</th>\n",
       "      <th>address.state</th>\n",
       "      <th>address.postal_code</th>\n",
       "      <th>address.county</th>\n",
       "      <th>lot_size.size</th>\n",
       "      <th>building_size.size</th>\n",
       "    </tr>\n",
       "  </thead>\n",
       "  <tbody>\n",
       "    <tr>\n",
       "      <td>0</td>\n",
       "      <td>multi_family</td>\n",
       "      <td>2013.0</td>\n",
       "      <td>6.0</td>\n",
       "      <td>6.0</td>\n",
       "      <td>NaN</td>\n",
       "      <td>NaN</td>\n",
       "      <td>630000</td>\n",
       "      <td>6</td>\n",
       "      <td>Vancouver</td>\n",
       "      <td>Washington</td>\n",
       "      <td>98665</td>\n",
       "      <td>Clark</td>\n",
       "      <td>6999.0</td>\n",
       "      <td>3020.0</td>\n",
       "    </tr>\n",
       "    <tr>\n",
       "      <td>1</td>\n",
       "      <td>single_family</td>\n",
       "      <td>1901.0</td>\n",
       "      <td>3.0</td>\n",
       "      <td>1.0</td>\n",
       "      <td>NaN</td>\n",
       "      <td>NaN</td>\n",
       "      <td>290000</td>\n",
       "      <td>1</td>\n",
       "      <td>Vancouver</td>\n",
       "      <td>Washington</td>\n",
       "      <td>98660</td>\n",
       "      <td>Clark</td>\n",
       "      <td>5227.0</td>\n",
       "      <td>858.0</td>\n",
       "    </tr>\n",
       "    <tr>\n",
       "      <td>2</td>\n",
       "      <td>condo</td>\n",
       "      <td>2020.0</td>\n",
       "      <td>1.0</td>\n",
       "      <td>1.0</td>\n",
       "      <td>NaN</td>\n",
       "      <td>NaN</td>\n",
       "      <td>254900</td>\n",
       "      <td>1</td>\n",
       "      <td>Portland</td>\n",
       "      <td>Oregon</td>\n",
       "      <td>97217</td>\n",
       "      <td>Multnomah</td>\n",
       "      <td>NaN</td>\n",
       "      <td>651.0</td>\n",
       "    </tr>\n",
       "    <tr>\n",
       "      <td>3</td>\n",
       "      <td>single_family</td>\n",
       "      <td>2008.0</td>\n",
       "      <td>4.0</td>\n",
       "      <td>2.0</td>\n",
       "      <td>2</td>\n",
       "      <td>1.0</td>\n",
       "      <td>330000</td>\n",
       "      <td>3</td>\n",
       "      <td>Vancouver</td>\n",
       "      <td>Washington</td>\n",
       "      <td>98661</td>\n",
       "      <td>Clark</td>\n",
       "      <td>2614.0</td>\n",
       "      <td>1558.0</td>\n",
       "    </tr>\n",
       "    <tr>\n",
       "      <td>4</td>\n",
       "      <td>single_family</td>\n",
       "      <td>1995.0</td>\n",
       "      <td>3.0</td>\n",
       "      <td>2.0</td>\n",
       "      <td>2</td>\n",
       "      <td>NaN</td>\n",
       "      <td>350000</td>\n",
       "      <td>2</td>\n",
       "      <td>Vancouver</td>\n",
       "      <td>Washington</td>\n",
       "      <td>98682</td>\n",
       "      <td>Clark</td>\n",
       "      <td>6970.0</td>\n",
       "      <td>1201.0</td>\n",
       "    </tr>\n",
       "    <tr>\n",
       "      <td>...</td>\n",
       "      <td>...</td>\n",
       "      <td>...</td>\n",
       "      <td>...</td>\n",
       "      <td>...</td>\n",
       "      <td>...</td>\n",
       "      <td>...</td>\n",
       "      <td>...</td>\n",
       "      <td>...</td>\n",
       "      <td>...</td>\n",
       "      <td>...</td>\n",
       "      <td>...</td>\n",
       "      <td>...</td>\n",
       "      <td>...</td>\n",
       "      <td>...</td>\n",
       "    </tr>\n",
       "    <tr>\n",
       "      <td>195</td>\n",
       "      <td>single_family</td>\n",
       "      <td>1984.0</td>\n",
       "      <td>3.0</td>\n",
       "      <td>2.0</td>\n",
       "      <td>1</td>\n",
       "      <td>NaN</td>\n",
       "      <td>360000</td>\n",
       "      <td>2</td>\n",
       "      <td>Gresham</td>\n",
       "      <td>Oregon</td>\n",
       "      <td>97030</td>\n",
       "      <td>Multnomah</td>\n",
       "      <td>7841.0</td>\n",
       "      <td>1306.0</td>\n",
       "    </tr>\n",
       "    <tr>\n",
       "      <td>196</td>\n",
       "      <td>single_family</td>\n",
       "      <td>1997.0</td>\n",
       "      <td>4.0</td>\n",
       "      <td>2.0</td>\n",
       "      <td>3</td>\n",
       "      <td>1.0</td>\n",
       "      <td>645000</td>\n",
       "      <td>3</td>\n",
       "      <td>Vancouver</td>\n",
       "      <td>Washington</td>\n",
       "      <td>98685</td>\n",
       "      <td>Clark</td>\n",
       "      <td>13504.0</td>\n",
       "      <td>3094.0</td>\n",
       "    </tr>\n",
       "    <tr>\n",
       "      <td>197</td>\n",
       "      <td>single_family</td>\n",
       "      <td>2000.0</td>\n",
       "      <td>3.0</td>\n",
       "      <td>2.0</td>\n",
       "      <td>2</td>\n",
       "      <td>1.0</td>\n",
       "      <td>401000</td>\n",
       "      <td>3</td>\n",
       "      <td>Vancouver</td>\n",
       "      <td>Washington</td>\n",
       "      <td>98662</td>\n",
       "      <td>Clark</td>\n",
       "      <td>6098.0</td>\n",
       "      <td>1992.0</td>\n",
       "    </tr>\n",
       "    <tr>\n",
       "      <td>198</td>\n",
       "      <td>land</td>\n",
       "      <td>NaN</td>\n",
       "      <td>NaN</td>\n",
       "      <td>NaN</td>\n",
       "      <td>NaN</td>\n",
       "      <td>NaN</td>\n",
       "      <td>185000</td>\n",
       "      <td>0</td>\n",
       "      <td>Vancouver</td>\n",
       "      <td>Washington</td>\n",
       "      <td>98685</td>\n",
       "      <td>Clark</td>\n",
       "      <td>6534.0</td>\n",
       "      <td>NaN</td>\n",
       "    </tr>\n",
       "    <tr>\n",
       "      <td>199</td>\n",
       "      <td>condo</td>\n",
       "      <td>2017.0</td>\n",
       "      <td>3.0</td>\n",
       "      <td>2.0</td>\n",
       "      <td>1</td>\n",
       "      <td>1.0</td>\n",
       "      <td>307400</td>\n",
       "      <td>3</td>\n",
       "      <td>Vancouver</td>\n",
       "      <td>Washington</td>\n",
       "      <td>98665</td>\n",
       "      <td>Clark</td>\n",
       "      <td>1742.0</td>\n",
       "      <td>1643.0</td>\n",
       "    </tr>\n",
       "  </tbody>\n",
       "</table>\n",
       "<p>200 rows × 14 columns</p>\n",
       "</div>"
      ],
      "text/plain": [
       "         prop_type  year_built  beds  baths_full garage  baths_half   price  \\\n",
       "0     multi_family      2013.0   6.0         6.0    NaN         NaN  630000   \n",
       "1    single_family      1901.0   3.0         1.0    NaN         NaN  290000   \n",
       "2            condo      2020.0   1.0         1.0    NaN         NaN  254900   \n",
       "3    single_family      2008.0   4.0         2.0      2         1.0  330000   \n",
       "4    single_family      1995.0   3.0         2.0      2         NaN  350000   \n",
       "..             ...         ...   ...         ...    ...         ...     ...   \n",
       "195  single_family      1984.0   3.0         2.0      1         NaN  360000   \n",
       "196  single_family      1997.0   4.0         2.0      3         1.0  645000   \n",
       "197  single_family      2000.0   3.0         2.0      2         1.0  401000   \n",
       "198           land         NaN   NaN         NaN    NaN         NaN  185000   \n",
       "199          condo      2017.0   3.0         2.0      1         1.0  307400   \n",
       "\n",
       "     baths address.city address.state address.postal_code address.county  \\\n",
       "0        6    Vancouver    Washington               98665          Clark   \n",
       "1        1    Vancouver    Washington               98660          Clark   \n",
       "2        1     Portland        Oregon               97217      Multnomah   \n",
       "3        3    Vancouver    Washington               98661          Clark   \n",
       "4        2    Vancouver    Washington               98682          Clark   \n",
       "..     ...          ...           ...                 ...            ...   \n",
       "195      2      Gresham        Oregon               97030      Multnomah   \n",
       "196      3    Vancouver    Washington               98685          Clark   \n",
       "197      3    Vancouver    Washington               98662          Clark   \n",
       "198      0    Vancouver    Washington               98685          Clark   \n",
       "199      3    Vancouver    Washington               98665          Clark   \n",
       "\n",
       "     lot_size.size  building_size.size  \n",
       "0           6999.0              3020.0  \n",
       "1           5227.0               858.0  \n",
       "2              NaN               651.0  \n",
       "3           2614.0              1558.0  \n",
       "4           6970.0              1201.0  \n",
       "..             ...                 ...  \n",
       "195         7841.0              1306.0  \n",
       "196        13504.0              3094.0  \n",
       "197         6098.0              1992.0  \n",
       "198         6534.0                 NaN  \n",
       "199         1742.0              1643.0  \n",
       "\n",
       "[200 rows x 14 columns]"
      ]
     },
     "execution_count": 169,
     "metadata": {},
     "output_type": "execute_result"
    }
   ],
   "source": [
    "buildings"
   ]
  },
  {
   "cell_type": "code",
   "execution_count": 170,
   "metadata": {},
   "outputs": [
    {
     "data": {
      "text/plain": [
       "prop_type                0\n",
       "year_built               1\n",
       "beds                     2\n",
       "baths_full               2\n",
       "garage                  25\n",
       "baths_half             109\n",
       "price                    0\n",
       "baths                    0\n",
       "address.city             0\n",
       "address.state            0\n",
       "address.postal_code      0\n",
       "address.county           0\n",
       "lot_size.size           19\n",
       "building_size.size       1\n",
       "dtype: int64"
      ]
     },
     "execution_count": 170,
     "metadata": {},
     "output_type": "execute_result"
    }
   ],
   "source": [
    "buildings.isna().sum()"
   ]
  },
  {
   "cell_type": "code",
   "execution_count": 171,
   "metadata": {},
   "outputs": [
    {
     "data": {
      "text/plain": [
       "year_built              1981.562814\n",
       "beds                       3.282828\n",
       "baths_full                 2.010101\n",
       "baths_half                 1.054945\n",
       "price                 471161.605000\n",
       "baths                      2.470000\n",
       "lot_size.size          15381.370166\n",
       "building_size.size      2037.608040\n",
       "Name: mean, dtype: float64"
      ]
     },
     "execution_count": 171,
     "metadata": {},
     "output_type": "execute_result"
    }
   ],
   "source": [
    "means = buildings.describe()\n",
    "means.loc['mean']"
   ]
  },
  {
   "cell_type": "code",
   "execution_count": null,
   "metadata": {},
   "outputs": [],
   "source": []
  },
  {
   "cell_type": "code",
   "execution_count": 172,
   "metadata": {},
   "outputs": [],
   "source": [
    "X = buildings.loc[:, buildings.columns != 'price']\n",
    "y = buildings['price']\n",
    "X = buildings.drop(['price'], axis = 1)"
   ]
  },
  {
   "cell_type": "code",
   "execution_count": 173,
   "metadata": {},
   "outputs": [],
   "source": [
    "X['year_built'].fillna(means.loc['mean'][0],inplace=True)\n",
    "X['beds'].fillna(means.loc['mean'][1],inplace=True)\n",
    "X['baths_full'].fillna(means.loc['mean'][2],inplace=True)\n",
    "X['garage'].fillna(0,inplace=True)\n",
    "X['baths_half'].fillna(means.loc['mean'][1],inplace=True)\n",
    "X['lot_size.size'].fillna(means.loc['mean'][6],inplace=True)\n",
    "X['building_size.size'].fillna(means.loc['mean'][7],inplace=True)"
   ]
  },
  {
   "cell_type": "code",
   "execution_count": 174,
   "metadata": {},
   "outputs": [
    {
     "data": {
      "text/plain": [
       "prop_type              0\n",
       "year_built             0\n",
       "beds                   0\n",
       "baths_full             0\n",
       "garage                 0\n",
       "baths_half             0\n",
       "baths                  0\n",
       "address.city           0\n",
       "address.state          0\n",
       "address.postal_code    0\n",
       "address.county         0\n",
       "lot_size.size          0\n",
       "building_size.size     0\n",
       "dtype: int64"
      ]
     },
     "execution_count": 174,
     "metadata": {},
     "output_type": "execute_result"
    }
   ],
   "source": [
    "X.isna().sum()"
   ]
  },
  {
   "cell_type": "markdown",
   "metadata": {},
   "source": [
    "## Sepearte Numeric and Catigorical Variables "
   ]
  },
  {
   "cell_type": "code",
   "execution_count": 175,
   "metadata": {},
   "outputs": [],
   "source": [
    "X_num = X[X.select_dtypes(exclude='object').columns]\n",
    "X_cat = X[X.select_dtypes('object').columns]"
   ]
  },
  {
   "cell_type": "code",
   "execution_count": 176,
   "metadata": {},
   "outputs": [
    {
     "data": {
      "text/html": [
       "<div>\n",
       "<style scoped>\n",
       "    .dataframe tbody tr th:only-of-type {\n",
       "        vertical-align: middle;\n",
       "    }\n",
       "\n",
       "    .dataframe tbody tr th {\n",
       "        vertical-align: top;\n",
       "    }\n",
       "\n",
       "    .dataframe thead th {\n",
       "        text-align: right;\n",
       "    }\n",
       "</style>\n",
       "<table border=\"1\" class=\"dataframe\">\n",
       "  <thead>\n",
       "    <tr style=\"text-align: right;\">\n",
       "      <th></th>\n",
       "      <th>prop_type</th>\n",
       "      <th>garage</th>\n",
       "      <th>address.city</th>\n",
       "      <th>address.state</th>\n",
       "      <th>address.postal_code</th>\n",
       "      <th>address.county</th>\n",
       "    </tr>\n",
       "  </thead>\n",
       "  <tbody>\n",
       "    <tr>\n",
       "      <td>0</td>\n",
       "      <td>multi_family</td>\n",
       "      <td>0</td>\n",
       "      <td>Vancouver</td>\n",
       "      <td>Washington</td>\n",
       "      <td>98665</td>\n",
       "      <td>Clark</td>\n",
       "    </tr>\n",
       "    <tr>\n",
       "      <td>1</td>\n",
       "      <td>single_family</td>\n",
       "      <td>0</td>\n",
       "      <td>Vancouver</td>\n",
       "      <td>Washington</td>\n",
       "      <td>98660</td>\n",
       "      <td>Clark</td>\n",
       "    </tr>\n",
       "    <tr>\n",
       "      <td>2</td>\n",
       "      <td>condo</td>\n",
       "      <td>0</td>\n",
       "      <td>Portland</td>\n",
       "      <td>Oregon</td>\n",
       "      <td>97217</td>\n",
       "      <td>Multnomah</td>\n",
       "    </tr>\n",
       "    <tr>\n",
       "      <td>3</td>\n",
       "      <td>single_family</td>\n",
       "      <td>2</td>\n",
       "      <td>Vancouver</td>\n",
       "      <td>Washington</td>\n",
       "      <td>98661</td>\n",
       "      <td>Clark</td>\n",
       "    </tr>\n",
       "    <tr>\n",
       "      <td>4</td>\n",
       "      <td>single_family</td>\n",
       "      <td>2</td>\n",
       "      <td>Vancouver</td>\n",
       "      <td>Washington</td>\n",
       "      <td>98682</td>\n",
       "      <td>Clark</td>\n",
       "    </tr>\n",
       "    <tr>\n",
       "      <td>...</td>\n",
       "      <td>...</td>\n",
       "      <td>...</td>\n",
       "      <td>...</td>\n",
       "      <td>...</td>\n",
       "      <td>...</td>\n",
       "      <td>...</td>\n",
       "    </tr>\n",
       "    <tr>\n",
       "      <td>195</td>\n",
       "      <td>single_family</td>\n",
       "      <td>1</td>\n",
       "      <td>Gresham</td>\n",
       "      <td>Oregon</td>\n",
       "      <td>97030</td>\n",
       "      <td>Multnomah</td>\n",
       "    </tr>\n",
       "    <tr>\n",
       "      <td>196</td>\n",
       "      <td>single_family</td>\n",
       "      <td>3</td>\n",
       "      <td>Vancouver</td>\n",
       "      <td>Washington</td>\n",
       "      <td>98685</td>\n",
       "      <td>Clark</td>\n",
       "    </tr>\n",
       "    <tr>\n",
       "      <td>197</td>\n",
       "      <td>single_family</td>\n",
       "      <td>2</td>\n",
       "      <td>Vancouver</td>\n",
       "      <td>Washington</td>\n",
       "      <td>98662</td>\n",
       "      <td>Clark</td>\n",
       "    </tr>\n",
       "    <tr>\n",
       "      <td>198</td>\n",
       "      <td>land</td>\n",
       "      <td>0</td>\n",
       "      <td>Vancouver</td>\n",
       "      <td>Washington</td>\n",
       "      <td>98685</td>\n",
       "      <td>Clark</td>\n",
       "    </tr>\n",
       "    <tr>\n",
       "      <td>199</td>\n",
       "      <td>condo</td>\n",
       "      <td>1</td>\n",
       "      <td>Vancouver</td>\n",
       "      <td>Washington</td>\n",
       "      <td>98665</td>\n",
       "      <td>Clark</td>\n",
       "    </tr>\n",
       "  </tbody>\n",
       "</table>\n",
       "<p>200 rows × 6 columns</p>\n",
       "</div>"
      ],
      "text/plain": [
       "         prop_type garage address.city address.state address.postal_code  \\\n",
       "0     multi_family      0    Vancouver    Washington               98665   \n",
       "1    single_family      0    Vancouver    Washington               98660   \n",
       "2            condo      0     Portland        Oregon               97217   \n",
       "3    single_family      2    Vancouver    Washington               98661   \n",
       "4    single_family      2    Vancouver    Washington               98682   \n",
       "..             ...    ...          ...           ...                 ...   \n",
       "195  single_family      1      Gresham        Oregon               97030   \n",
       "196  single_family      3    Vancouver    Washington               98685   \n",
       "197  single_family      2    Vancouver    Washington               98662   \n",
       "198           land      0    Vancouver    Washington               98685   \n",
       "199          condo      1    Vancouver    Washington               98665   \n",
       "\n",
       "    address.county  \n",
       "0            Clark  \n",
       "1            Clark  \n",
       "2        Multnomah  \n",
       "3            Clark  \n",
       "4            Clark  \n",
       "..             ...  \n",
       "195      Multnomah  \n",
       "196          Clark  \n",
       "197          Clark  \n",
       "198          Clark  \n",
       "199          Clark  \n",
       "\n",
       "[200 rows x 6 columns]"
      ]
     },
     "execution_count": 176,
     "metadata": {},
     "output_type": "execute_result"
    }
   ],
   "source": [
    "X_cat"
   ]
  },
  {
   "cell_type": "markdown",
   "metadata": {},
   "source": [
    "## Replace Catigorical Variables With Dummy Variables "
   ]
  },
  {
   "cell_type": "code",
   "execution_count": 177,
   "metadata": {},
   "outputs": [],
   "source": [
    "X_cat = pd.get_dummies(X_cat)"
   ]
  },
  {
   "cell_type": "code",
   "execution_count": 178,
   "metadata": {},
   "outputs": [],
   "source": [
    "X_clean = X_num.join(X_cat)"
   ]
  },
  {
   "cell_type": "code",
   "execution_count": null,
   "metadata": {},
   "outputs": [],
   "source": []
  },
  {
   "cell_type": "markdown",
   "metadata": {},
   "source": [
    "## Machine Learning Models "
   ]
  },
  {
   "cell_type": "code",
   "execution_count": 180,
   "metadata": {},
   "outputs": [],
   "source": [
    "X_train, X_test, y_train, y_test = train_test_split(X_clean,y, test_size=.2, random_state=42)"
   ]
  },
  {
   "cell_type": "code",
   "execution_count": null,
   "metadata": {},
   "outputs": [],
   "source": []
  },
  {
   "cell_type": "markdown",
   "metadata": {},
   "source": [
    "### Lasso Regression "
   ]
  },
  {
   "cell_type": "code",
   "execution_count": 183,
   "metadata": {},
   "outputs": [],
   "source": [
    "lasso = Lasso(alpha=152)"
   ]
  },
  {
   "cell_type": "code",
   "execution_count": 184,
   "metadata": {},
   "outputs": [
    {
     "data": {
      "text/plain": [
       "Lasso(alpha=152, copy_X=True, fit_intercept=True, max_iter=1000,\n",
       "      normalize=False, positive=False, precompute=False, random_state=None,\n",
       "      selection='cyclic', tol=0.0001, warm_start=False)"
      ]
     },
     "execution_count": 184,
     "metadata": {},
     "output_type": "execute_result"
    }
   ],
   "source": [
    "lasso.fit(X_train, y_train)"
   ]
  },
  {
   "cell_type": "code",
   "execution_count": 185,
   "metadata": {},
   "outputs": [
    {
     "name": "stdout",
     "output_type": "stream",
     "text": [
      "5175583663.522939\n"
     ]
    }
   ],
   "source": [
    "lhat_train = lasso.predict(X_train)\n",
    "mse_lasso_train = mean_squared_error(y_train, lhat_train)\n",
    "print(mse_lasso_train)"
   ]
  },
  {
   "cell_type": "code",
   "execution_count": 186,
   "metadata": {},
   "outputs": [
    {
     "data": {
      "text/plain": [
       "0.890365076813631"
      ]
     },
     "execution_count": 186,
     "metadata": {},
     "output_type": "execute_result"
    }
   ],
   "source": [
    "r2_score(y_train,lhat_train)"
   ]
  },
  {
   "cell_type": "code",
   "execution_count": 187,
   "metadata": {},
   "outputs": [
    {
     "name": "stdout",
     "output_type": "stream",
     "text": [
      "12121326679.754602\n"
     ]
    }
   ],
   "source": [
    "lhat_test = lasso.predict(X_test)\n",
    "mse_lasso_test = mean_squared_error(y_test, lhat_test)\n",
    "print(mse_lasso_test)"
   ]
  },
  {
   "cell_type": "code",
   "execution_count": 188,
   "metadata": {
    "scrolled": true
   },
   "outputs": [
    {
     "data": {
      "text/plain": [
       "0.6607781031362773"
      ]
     },
     "execution_count": 188,
     "metadata": {},
     "output_type": "execute_result"
    }
   ],
   "source": [
    "r2_score(y_test,lhat_test)"
   ]
  },
  {
   "cell_type": "markdown",
   "metadata": {},
   "source": [
    "### Linear Regression"
   ]
  },
  {
   "cell_type": "code",
   "execution_count": 189,
   "metadata": {},
   "outputs": [
    {
     "data": {
      "text/plain": [
       "LinearRegression(copy_X=True, fit_intercept=True, n_jobs=None, normalize=False)"
      ]
     },
     "execution_count": 189,
     "metadata": {},
     "output_type": "execute_result"
    }
   ],
   "source": [
    "lm = LinearRegression(fit_intercept=True, normalize=False)\n",
    "lm.fit(X_train, y_train)"
   ]
  },
  {
   "cell_type": "code",
   "execution_count": 190,
   "metadata": {},
   "outputs": [
    {
     "name": "stdout",
     "output_type": "stream",
     "text": [
      "5122353784.9493885\n"
     ]
    }
   ],
   "source": [
    "yhat_train = lm.predict(X_train)\n",
    "mse_lm_train = mean_squared_error(y_train, yhat_train)\n",
    "print(mse_lm_train)"
   ]
  },
  {
   "cell_type": "code",
   "execution_count": 191,
   "metadata": {},
   "outputs": [
    {
     "data": {
      "text/plain": [
       "0.8914926508280869"
      ]
     },
     "execution_count": 191,
     "metadata": {},
     "output_type": "execute_result"
    }
   ],
   "source": [
    "r2_score(y_train,yhat_train)"
   ]
  },
  {
   "cell_type": "code",
   "execution_count": 192,
   "metadata": {},
   "outputs": [
    {
     "name": "stdout",
     "output_type": "stream",
     "text": [
      "12075406712.23772\n"
     ]
    }
   ],
   "source": [
    "yhat_test = lm.predict(X_test)\n",
    "mse_lm_test = mean_squared_error(y_test, yhat_test)\n",
    "print(mse_lm_test)"
   ]
  },
  {
   "cell_type": "code",
   "execution_count": 193,
   "metadata": {
    "scrolled": true
   },
   "outputs": [
    {
     "data": {
      "text/plain": [
       "0.6620631983157526"
      ]
     },
     "execution_count": 193,
     "metadata": {},
     "output_type": "execute_result"
    }
   ],
   "source": [
    "r2_score(y_test,yhat_test)"
   ]
  },
  {
   "cell_type": "markdown",
   "metadata": {},
   "source": [
    "### K Nearest Neighbors Regression "
   ]
  },
  {
   "cell_type": "code",
   "execution_count": 194,
   "metadata": {},
   "outputs": [
    {
     "data": {
      "text/plain": [
       "KNeighborsRegressor(algorithm='auto', leaf_size=30, metric='minkowski',\n",
       "                    metric_params=None, n_jobs=None, n_neighbors=10, p=2,\n",
       "                    weights='uniform')"
      ]
     },
     "execution_count": 194,
     "metadata": {},
     "output_type": "execute_result"
    }
   ],
   "source": [
    "knn = KNeighborsRegressor(n_neighbors=10)\n",
    "knn.fit(X_train, y_train)"
   ]
  },
  {
   "cell_type": "code",
   "execution_count": 195,
   "metadata": {},
   "outputs": [
    {
     "name": "stdout",
     "output_type": "stream",
     "text": [
      "28303747952.598625\n"
     ]
    }
   ],
   "source": [
    "yhat_knn_train = knn.predict(X_train)\n",
    "mse_knn_train = mean_squared_error(y_train, yhat_knn_train)\n",
    "print(mse_knn_train)"
   ]
  },
  {
   "cell_type": "code",
   "execution_count": 196,
   "metadata": {},
   "outputs": [
    {
     "data": {
      "text/plain": [
       "0.4004387844138757"
      ]
     },
     "execution_count": 196,
     "metadata": {},
     "output_type": "execute_result"
    }
   ],
   "source": [
    "r2_score(y_train,yhat_knn_train)"
   ]
  },
  {
   "cell_type": "code",
   "execution_count": 197,
   "metadata": {},
   "outputs": [
    {
     "name": "stdout",
     "output_type": "stream",
     "text": [
      "32745067779.4435\n"
     ]
    }
   ],
   "source": [
    "yhat_knn_test = knn.predict(X_test)\n",
    "mse_knn_test = mean_squared_error(y_test, yhat_knn_test)\n",
    "print(mse_knn_test)"
   ]
  },
  {
   "cell_type": "code",
   "execution_count": 198,
   "metadata": {
    "scrolled": true
   },
   "outputs": [
    {
     "data": {
      "text/plain": [
       "0.08361153044190761"
      ]
     },
     "execution_count": 198,
     "metadata": {},
     "output_type": "execute_result"
    }
   ],
   "source": [
    "r2_score(y_test,yhat_knn_test)"
   ]
  },
  {
   "cell_type": "markdown",
   "metadata": {},
   "source": [
    "### Decision Tree Regression "
   ]
  },
  {
   "cell_type": "code",
   "execution_count": 199,
   "metadata": {},
   "outputs": [
    {
     "data": {
      "text/plain": [
       "DecisionTreeRegressor(criterion='mse', max_depth=None, max_features=None,\n",
       "                      max_leaf_nodes=None, min_impurity_decrease=0.0,\n",
       "                      min_impurity_split=None, min_samples_leaf=3,\n",
       "                      min_samples_split=2, min_weight_fraction_leaf=0.0,\n",
       "                      presort=False, random_state=None, splitter='best')"
      ]
     },
     "execution_count": 199,
     "metadata": {},
     "output_type": "execute_result"
    }
   ],
   "source": [
    "regressor = DecisionTreeRegressor(min_samples_leaf=3)\n",
    "regressor.fit(X_train, y_train)"
   ]
  },
  {
   "cell_type": "code",
   "execution_count": 200,
   "metadata": {},
   "outputs": [
    {
     "name": "stdout",
     "output_type": "stream",
     "text": [
      "10004675362.088022\n"
     ]
    }
   ],
   "source": [
    "rhat_train = regressor.predict(X_train)\n",
    "mse_regressor_train = mean_squared_error(y_train,rhat_train)\n",
    "print(mse_regressor_train)"
   ]
  },
  {
   "cell_type": "code",
   "execution_count": 201,
   "metadata": {},
   "outputs": [
    {
     "data": {
      "text/plain": [
       "0.7880699287004739"
      ]
     },
     "execution_count": 201,
     "metadata": {},
     "output_type": "execute_result"
    }
   ],
   "source": [
    "r2_score(y_train,rhat_train)"
   ]
  },
  {
   "cell_type": "code",
   "execution_count": 202,
   "metadata": {},
   "outputs": [
    {
     "name": "stdout",
     "output_type": "stream",
     "text": [
      "22251607651.870773\n"
     ]
    }
   ],
   "source": [
    "rhat_test = regressor.predict(X_test)\n",
    "mse_regressor_test = mean_squared_error(y_test,rhat_test)\n",
    "print(mse_regressor_test)\n"
   ]
  },
  {
   "cell_type": "code",
   "execution_count": 203,
   "metadata": {},
   "outputs": [
    {
     "data": {
      "text/plain": [
       "0.37727669954294596"
      ]
     },
     "execution_count": 203,
     "metadata": {},
     "output_type": "execute_result"
    }
   ],
   "source": [
    "r2_score(y_test,rhat_test)"
   ]
  },
  {
   "cell_type": "code",
   "execution_count": null,
   "metadata": {},
   "outputs": [],
   "source": []
  },
  {
   "cell_type": "markdown",
   "metadata": {},
   "source": [
    "## Add Polynomial Features "
   ]
  },
  {
   "cell_type": "code",
   "execution_count": 204,
   "metadata": {},
   "outputs": [],
   "source": [
    "from sklearn.preprocessing import PolynomialFeatures"
   ]
  },
  {
   "cell_type": "code",
   "execution_count": 205,
   "metadata": {},
   "outputs": [],
   "source": [
    "poly = PolynomialFeatures(2)"
   ]
  },
  {
   "cell_type": "code",
   "execution_count": 206,
   "metadata": {},
   "outputs": [],
   "source": [
    "X_poly = pd.DataFrame(poly.fit_transform(X_num))"
   ]
  },
  {
   "cell_type": "code",
   "execution_count": 207,
   "metadata": {},
   "outputs": [],
   "source": [
    "X_clean_poly = X_poly.join(X_cat)"
   ]
  },
  {
   "cell_type": "code",
   "execution_count": 208,
   "metadata": {},
   "outputs": [],
   "source": [
    "X_train, X_test, y_train, y_test = train_test_split(X_poly,y, test_size=.2, random_state=42)"
   ]
  },
  {
   "cell_type": "markdown",
   "metadata": {},
   "source": [
    "### Linear Regression"
   ]
  },
  {
   "cell_type": "code",
   "execution_count": 209,
   "metadata": {},
   "outputs": [
    {
     "data": {
      "text/plain": [
       "LinearRegression(copy_X=True, fit_intercept=True, n_jobs=None, normalize=False)"
      ]
     },
     "execution_count": 209,
     "metadata": {},
     "output_type": "execute_result"
    }
   ],
   "source": [
    "lm = LinearRegression(fit_intercept=True, normalize=False)\n",
    "lm.fit(X_train, y_train)"
   ]
  },
  {
   "cell_type": "code",
   "execution_count": 210,
   "metadata": {},
   "outputs": [
    {
     "name": "stdout",
     "output_type": "stream",
     "text": [
      "7581265325.248904\n"
     ]
    }
   ],
   "source": [
    "yhat_train = lm.predict(X_train)\n",
    "mse_lm_train = mean_squared_error(y_train, yhat_train)\n",
    "print(mse_lm_train)"
   ]
  },
  {
   "cell_type": "code",
   "execution_count": 211,
   "metadata": {},
   "outputs": [
    {
     "data": {
      "text/plain": [
       "0.8394052737573986"
      ]
     },
     "execution_count": 211,
     "metadata": {},
     "output_type": "execute_result"
    }
   ],
   "source": [
    "r2_score(y_train,yhat_train)"
   ]
  },
  {
   "cell_type": "code",
   "execution_count": 212,
   "metadata": {},
   "outputs": [
    {
     "name": "stdout",
     "output_type": "stream",
     "text": [
      "34749811198.71855\n"
     ]
    }
   ],
   "source": [
    "yhat_test = lm.predict(X_test)\n",
    "mse_lm_test = mean_squared_error(y_test, yhat_test)\n",
    "print(mse_lm_test)"
   ]
  },
  {
   "cell_type": "code",
   "execution_count": 213,
   "metadata": {
    "scrolled": true
   },
   "outputs": [
    {
     "data": {
      "text/plain": [
       "0.02750769928723762"
      ]
     },
     "execution_count": 213,
     "metadata": {},
     "output_type": "execute_result"
    }
   ],
   "source": [
    "r2_score(y_test,yhat_test)"
   ]
  },
  {
   "cell_type": "markdown",
   "metadata": {},
   "source": [
    "### Lasso Regression "
   ]
  },
  {
   "cell_type": "code",
   "execution_count": 214,
   "metadata": {},
   "outputs": [],
   "source": [
    "lasso = Lasso(alpha=152)"
   ]
  },
  {
   "cell_type": "code",
   "execution_count": 215,
   "metadata": {},
   "outputs": [
    {
     "data": {
      "text/plain": [
       "Lasso(alpha=152, copy_X=True, fit_intercept=True, max_iter=1000,\n",
       "      normalize=False, positive=False, precompute=False, random_state=None,\n",
       "      selection='cyclic', tol=0.0001, warm_start=False)"
      ]
     },
     "execution_count": 215,
     "metadata": {},
     "output_type": "execute_result"
    }
   ],
   "source": [
    "lasso.fit(X_train, y_train)"
   ]
  },
  {
   "cell_type": "code",
   "execution_count": 216,
   "metadata": {},
   "outputs": [
    {
     "name": "stdout",
     "output_type": "stream",
     "text": [
      "6281078129.550999\n"
     ]
    }
   ],
   "source": [
    "lhat_train = lasso.predict(X_train)\n",
    "mse_lasso_train = mean_squared_error(y_train, lhat_train)\n",
    "print(mse_lasso_train)"
   ]
  },
  {
   "cell_type": "code",
   "execution_count": 217,
   "metadata": {},
   "outputs": [
    {
     "data": {
      "text/plain": [
       "0.8669472733840091"
      ]
     },
     "execution_count": 217,
     "metadata": {},
     "output_type": "execute_result"
    }
   ],
   "source": [
    "r2_score(y_train,lhat_train)"
   ]
  },
  {
   "cell_type": "code",
   "execution_count": 218,
   "metadata": {},
   "outputs": [
    {
     "name": "stdout",
     "output_type": "stream",
     "text": [
      "32019950426.244427\n"
     ]
    }
   ],
   "source": [
    "lhat_test = lasso.predict(X_test)\n",
    "mse_lasso_test = mean_squared_error(y_test, lhat_test)\n",
    "print(mse_lasso_test)"
   ]
  },
  {
   "cell_type": "code",
   "execution_count": 219,
   "metadata": {
    "scrolled": true
   },
   "outputs": [
    {
     "data": {
      "text/plain": [
       "0.10390433258309795"
      ]
     },
     "execution_count": 219,
     "metadata": {},
     "output_type": "execute_result"
    }
   ],
   "source": [
    "r2_score(y_test,lhat_test)"
   ]
  },
  {
   "cell_type": "code",
   "execution_count": null,
   "metadata": {},
   "outputs": [],
   "source": []
  },
  {
   "cell_type": "markdown",
   "metadata": {},
   "source": [
    "### K Nearest Neighbors Regression "
   ]
  },
  {
   "cell_type": "code",
   "execution_count": 220,
   "metadata": {},
   "outputs": [
    {
     "data": {
      "text/plain": [
       "KNeighborsRegressor(algorithm='auto', leaf_size=30, metric='minkowski',\n",
       "                    metric_params=None, n_jobs=None, n_neighbors=10, p=2,\n",
       "                    weights='uniform')"
      ]
     },
     "execution_count": 220,
     "metadata": {},
     "output_type": "execute_result"
    }
   ],
   "source": [
    "knn = KNeighborsRegressor(n_neighbors=10)\n",
    "knn.fit(X_train, y_train)"
   ]
  },
  {
   "cell_type": "code",
   "execution_count": 221,
   "metadata": {},
   "outputs": [
    {
     "name": "stdout",
     "output_type": "stream",
     "text": [
      "29564198618.996502\n"
     ]
    }
   ],
   "source": [
    "yhat_knn_train = knn.predict(X_train)\n",
    "mse_knn_train = mean_squared_error(y_train, yhat_knn_train)\n",
    "print(mse_knn_train)"
   ]
  },
  {
   "cell_type": "code",
   "execution_count": 222,
   "metadata": {},
   "outputs": [
    {
     "data": {
      "text/plain": [
       "0.3737385277907076"
      ]
     },
     "execution_count": 222,
     "metadata": {},
     "output_type": "execute_result"
    }
   ],
   "source": [
    "r2_score(y_train,yhat_knn_train)"
   ]
  },
  {
   "cell_type": "code",
   "execution_count": 223,
   "metadata": {},
   "outputs": [
    {
     "name": "stdout",
     "output_type": "stream",
     "text": [
      "33119974642.387\n"
     ]
    }
   ],
   "source": [
    "yhat_knn_test = knn.predict(X_test)\n",
    "mse_knn_test = mean_squared_error(y_test, yhat_knn_test)\n",
    "print(mse_knn_test)"
   ]
  },
  {
   "cell_type": "code",
   "execution_count": 224,
   "metadata": {
    "scrolled": true
   },
   "outputs": [
    {
     "data": {
      "text/plain": [
       "0.0731195586837885"
      ]
     },
     "execution_count": 224,
     "metadata": {},
     "output_type": "execute_result"
    }
   ],
   "source": [
    "r2_score(y_test,yhat_knn_test)"
   ]
  },
  {
   "cell_type": "markdown",
   "metadata": {},
   "source": [
    "### Decision Tree Regression "
   ]
  },
  {
   "cell_type": "code",
   "execution_count": 225,
   "metadata": {},
   "outputs": [
    {
     "data": {
      "text/plain": [
       "DecisionTreeRegressor(criterion='mse', max_depth=None, max_features=None,\n",
       "                      max_leaf_nodes=None, min_impurity_decrease=0.0,\n",
       "                      min_impurity_split=None, min_samples_leaf=3,\n",
       "                      min_samples_split=2, min_weight_fraction_leaf=0.0,\n",
       "                      presort=False, random_state=None, splitter='best')"
      ]
     },
     "execution_count": 225,
     "metadata": {},
     "output_type": "execute_result"
    }
   ],
   "source": [
    "regressor = DecisionTreeRegressor(min_samples_leaf=3)\n",
    "regressor.fit(X_train, y_train)"
   ]
  },
  {
   "cell_type": "code",
   "execution_count": 226,
   "metadata": {},
   "outputs": [
    {
     "name": "stdout",
     "output_type": "stream",
     "text": [
      "10135651402.517187\n"
     ]
    }
   ],
   "source": [
    "rhat_train = regressor.predict(X_train)\n",
    "mse_regressor_train = mean_squared_error(y_train,rhat_train)\n",
    "print(mse_regressor_train)"
   ]
  },
  {
   "cell_type": "code",
   "execution_count": 227,
   "metadata": {},
   "outputs": [
    {
     "data": {
      "text/plain": [
       "0.7852954497111937"
      ]
     },
     "execution_count": 227,
     "metadata": {},
     "output_type": "execute_result"
    }
   ],
   "source": [
    "r2_score(y_train,rhat_train)"
   ]
  },
  {
   "cell_type": "code",
   "execution_count": 228,
   "metadata": {},
   "outputs": [
    {
     "name": "stdout",
     "output_type": "stream",
     "text": [
      "29453989728.833668\n"
     ]
    }
   ],
   "source": [
    "rhat_test = regressor.predict(X_test)\n",
    "mse_regressor_test = mean_squared_error(y_test,rhat_test)\n",
    "print(mse_regressor_test)\n"
   ]
  },
  {
   "cell_type": "code",
   "execution_count": 229,
   "metadata": {},
   "outputs": [
    {
     "data": {
      "text/plain": [
       "0.17571413344485154"
      ]
     },
     "execution_count": 229,
     "metadata": {},
     "output_type": "execute_result"
    }
   ],
   "source": [
    "r2_score(y_test,rhat_test)"
   ]
  },
  {
   "cell_type": "markdown",
   "metadata": {},
   "source": [
    "## Standard Scaler "
   ]
  },
  {
   "cell_type": "code",
   "execution_count": 230,
   "metadata": {},
   "outputs": [],
   "source": [
    "from sklearn.preprocessing import StandardScaler"
   ]
  },
  {
   "cell_type": "code",
   "execution_count": 231,
   "metadata": {},
   "outputs": [],
   "source": [
    "scaler = StandardScaler()"
   ]
  },
  {
   "cell_type": "code",
   "execution_count": 232,
   "metadata": {},
   "outputs": [],
   "source": [
    "X_scaler = pd.DataFrame(scaler.fit_transform(X_num))"
   ]
  },
  {
   "cell_type": "code",
   "execution_count": 233,
   "metadata": {},
   "outputs": [],
   "source": [
    "X_scaler_clean = X_scaler.join(X_cat)"
   ]
  },
  {
   "cell_type": "code",
   "execution_count": 234,
   "metadata": {},
   "outputs": [],
   "source": [
    "X_train, X_test, y_train, y_test = train_test_split(X_scaler_clean,y, test_size=.2, random_state=42)"
   ]
  },
  {
   "cell_type": "markdown",
   "metadata": {},
   "source": [
    "### Linear Regression"
   ]
  },
  {
   "cell_type": "code",
   "execution_count": 235,
   "metadata": {},
   "outputs": [
    {
     "data": {
      "text/plain": [
       "LinearRegression(copy_X=True, fit_intercept=True, n_jobs=None, normalize=False)"
      ]
     },
     "execution_count": 235,
     "metadata": {},
     "output_type": "execute_result"
    }
   ],
   "source": [
    "lm = LinearRegression(fit_intercept=True, normalize=False)\n",
    "lm.fit(X_train, y_train)"
   ]
  },
  {
   "cell_type": "code",
   "execution_count": 236,
   "metadata": {},
   "outputs": [
    {
     "name": "stdout",
     "output_type": "stream",
     "text": [
      "5122457382.975\n"
     ]
    }
   ],
   "source": [
    "yhat_train = lm.predict(X_train)\n",
    "mse_lm_train = mean_squared_error(y_train, yhat_train)\n",
    "print(mse_lm_train)"
   ]
  },
  {
   "cell_type": "code",
   "execution_count": 237,
   "metadata": {},
   "outputs": [
    {
     "data": {
      "text/plain": [
       "0.8914904563004126"
      ]
     },
     "execution_count": 237,
     "metadata": {},
     "output_type": "execute_result"
    }
   ],
   "source": [
    "r2_score(y_train,yhat_train)"
   ]
  },
  {
   "cell_type": "code",
   "execution_count": 238,
   "metadata": {},
   "outputs": [
    {
     "name": "stdout",
     "output_type": "stream",
     "text": [
      "8.657152201424125e+32\n"
     ]
    }
   ],
   "source": [
    "yhat_test = lm.predict(X_test)\n",
    "mse_lm_test = mean_squared_error(y_test, yhat_test)\n",
    "print(mse_lm_test)"
   ]
  },
  {
   "cell_type": "code",
   "execution_count": 239,
   "metadata": {
    "scrolled": true
   },
   "outputs": [
    {
     "data": {
      "text/plain": [
       "-2.4227509651315645e+22"
      ]
     },
     "execution_count": 239,
     "metadata": {},
     "output_type": "execute_result"
    }
   ],
   "source": [
    "r2_score(y_test,yhat_test)"
   ]
  },
  {
   "cell_type": "markdown",
   "metadata": {},
   "source": [
    "### Lasso Regression "
   ]
  },
  {
   "cell_type": "code",
   "execution_count": 240,
   "metadata": {},
   "outputs": [],
   "source": [
    "lasso = Lasso(alpha=152)"
   ]
  },
  {
   "cell_type": "code",
   "execution_count": 241,
   "metadata": {},
   "outputs": [
    {
     "data": {
      "text/plain": [
       "Lasso(alpha=152, copy_X=True, fit_intercept=True, max_iter=1000,\n",
       "      normalize=False, positive=False, precompute=False, random_state=None,\n",
       "      selection='cyclic', tol=0.0001, warm_start=False)"
      ]
     },
     "execution_count": 241,
     "metadata": {},
     "output_type": "execute_result"
    }
   ],
   "source": [
    "lasso.fit(X_train, y_train)"
   ]
  },
  {
   "cell_type": "code",
   "execution_count": 242,
   "metadata": {},
   "outputs": [
    {
     "name": "stdout",
     "output_type": "stream",
     "text": [
      "5176504163.138428\n"
     ]
    }
   ],
   "source": [
    "lhat_train = lasso.predict(X_train)\n",
    "mse_lasso_train = mean_squared_error(y_train, lhat_train)\n",
    "print(mse_lasso_train)"
   ]
  },
  {
   "cell_type": "code",
   "execution_count": 243,
   "metadata": {},
   "outputs": [
    {
     "data": {
      "text/plain": [
       "0.8903455777752233"
      ]
     },
     "execution_count": 243,
     "metadata": {},
     "output_type": "execute_result"
    }
   ],
   "source": [
    "r2_score(y_train,lhat_train)"
   ]
  },
  {
   "cell_type": "code",
   "execution_count": 244,
   "metadata": {},
   "outputs": [
    {
     "name": "stdout",
     "output_type": "stream",
     "text": [
      "12162778030.956032\n"
     ]
    }
   ],
   "source": [
    "lhat_test = lasso.predict(X_test)\n",
    "mse_lasso_test = mean_squared_error(y_test, lhat_test)\n",
    "print(mse_lasso_test)"
   ]
  },
  {
   "cell_type": "code",
   "execution_count": 245,
   "metadata": {
    "scrolled": true
   },
   "outputs": [
    {
     "data": {
      "text/plain": [
       "0.6596180646063696"
      ]
     },
     "execution_count": 245,
     "metadata": {},
     "output_type": "execute_result"
    }
   ],
   "source": [
    "r2_score(y_test,lhat_test)"
   ]
  },
  {
   "cell_type": "code",
   "execution_count": null,
   "metadata": {},
   "outputs": [],
   "source": []
  },
  {
   "cell_type": "markdown",
   "metadata": {},
   "source": [
    "### K Nearest Neighbors Regression "
   ]
  },
  {
   "cell_type": "code",
   "execution_count": 246,
   "metadata": {},
   "outputs": [
    {
     "data": {
      "text/plain": [
       "KNeighborsRegressor(algorithm='auto', leaf_size=30, metric='minkowski',\n",
       "                    metric_params=None, n_jobs=None, n_neighbors=10, p=2,\n",
       "                    weights='uniform')"
      ]
     },
     "execution_count": 246,
     "metadata": {},
     "output_type": "execute_result"
    }
   ],
   "source": [
    "knn = KNeighborsRegressor(n_neighbors=10)\n",
    "knn.fit(X_train, y_train)"
   ]
  },
  {
   "cell_type": "code",
   "execution_count": 247,
   "metadata": {},
   "outputs": [
    {
     "name": "stdout",
     "output_type": "stream",
     "text": [
      "20260761190.451874\n"
     ]
    }
   ],
   "source": [
    "yhat_knn_train = knn.predict(X_train)\n",
    "mse_knn_train = mean_squared_error(y_train, yhat_knn_train)\n",
    "print(mse_knn_train)"
   ]
  },
  {
   "cell_type": "code",
   "execution_count": 248,
   "metadata": {},
   "outputs": [
    {
     "data": {
      "text/plain": [
       "0.5708142035326385"
      ]
     },
     "execution_count": 248,
     "metadata": {},
     "output_type": "execute_result"
    }
   ],
   "source": [
    "r2_score(y_train,yhat_knn_train)"
   ]
  },
  {
   "cell_type": "code",
   "execution_count": 249,
   "metadata": {},
   "outputs": [
    {
     "name": "stdout",
     "output_type": "stream",
     "text": [
      "20226741827.94225\n"
     ]
    }
   ],
   "source": [
    "yhat_knn_test = knn.predict(X_test)\n",
    "mse_knn_test = mean_squared_error(y_test, yhat_knn_test)\n",
    "print(mse_knn_test)"
   ]
  },
  {
   "cell_type": "code",
   "execution_count": 250,
   "metadata": {
    "scrolled": true
   },
   "outputs": [
    {
     "data": {
      "text/plain": [
       "0.4339436670981397"
      ]
     },
     "execution_count": 250,
     "metadata": {},
     "output_type": "execute_result"
    }
   ],
   "source": [
    "r2_score(y_test,yhat_knn_test)"
   ]
  },
  {
   "cell_type": "markdown",
   "metadata": {},
   "source": [
    "### Decision Tree Regression "
   ]
  },
  {
   "cell_type": "code",
   "execution_count": 251,
   "metadata": {},
   "outputs": [
    {
     "data": {
      "text/plain": [
       "DecisionTreeRegressor(criterion='mse', max_depth=None, max_features=None,\n",
       "                      max_leaf_nodes=None, min_impurity_decrease=0.0,\n",
       "                      min_impurity_split=None, min_samples_leaf=3,\n",
       "                      min_samples_split=2, min_weight_fraction_leaf=0.0,\n",
       "                      presort=False, random_state=None, splitter='best')"
      ]
     },
     "execution_count": 251,
     "metadata": {},
     "output_type": "execute_result"
    }
   ],
   "source": [
    "regressor = DecisionTreeRegressor(min_samples_leaf=3)\n",
    "regressor.fit(X_train, y_train)"
   ]
  },
  {
   "cell_type": "code",
   "execution_count": 252,
   "metadata": {},
   "outputs": [
    {
     "name": "stdout",
     "output_type": "stream",
     "text": [
      "10004675362.088022\n"
     ]
    }
   ],
   "source": [
    "rhat_train = regressor.predict(X_train)\n",
    "mse_regressor_train = mean_squared_error(y_train,rhat_train)\n",
    "print(mse_regressor_train)"
   ]
  },
  {
   "cell_type": "code",
   "execution_count": 253,
   "metadata": {},
   "outputs": [
    {
     "data": {
      "text/plain": [
       "0.7880699287004739"
      ]
     },
     "execution_count": 253,
     "metadata": {},
     "output_type": "execute_result"
    }
   ],
   "source": [
    "r2_score(y_train,rhat_train)"
   ]
  },
  {
   "cell_type": "code",
   "execution_count": 254,
   "metadata": {},
   "outputs": [
    {
     "name": "stdout",
     "output_type": "stream",
     "text": [
      "22243338901.870773\n"
     ]
    }
   ],
   "source": [
    "rhat_test = regressor.predict(X_test)\n",
    "mse_regressor_test = mean_squared_error(y_test,rhat_test)\n",
    "print(mse_regressor_test)\n"
   ]
  },
  {
   "cell_type": "code",
   "execution_count": 255,
   "metadata": {},
   "outputs": [
    {
     "data": {
      "text/plain": [
       "0.3775081049933392"
      ]
     },
     "execution_count": 255,
     "metadata": {},
     "output_type": "execute_result"
    }
   ],
   "source": [
    "r2_score(y_test,rhat_test)"
   ]
  },
  {
   "cell_type": "code",
   "execution_count": null,
   "metadata": {},
   "outputs": [],
   "source": []
  },
  {
   "cell_type": "code",
   "execution_count": null,
   "metadata": {},
   "outputs": [],
   "source": []
  },
  {
   "cell_type": "code",
   "execution_count": null,
   "metadata": {},
   "outputs": [],
   "source": []
  },
  {
   "cell_type": "code",
   "execution_count": null,
   "metadata": {},
   "outputs": [],
   "source": []
  },
  {
   "cell_type": "code",
   "execution_count": null,
   "metadata": {},
   "outputs": [],
   "source": []
  },
  {
   "cell_type": "code",
   "execution_count": null,
   "metadata": {},
   "outputs": [],
   "source": []
  },
  {
   "cell_type": "code",
   "execution_count": null,
   "metadata": {},
   "outputs": [],
   "source": []
  },
  {
   "cell_type": "code",
   "execution_count": null,
   "metadata": {},
   "outputs": [],
   "source": []
  },
  {
   "cell_type": "code",
   "execution_count": null,
   "metadata": {},
   "outputs": [],
   "source": []
  },
  {
   "cell_type": "code",
   "execution_count": null,
   "metadata": {},
   "outputs": [],
   "source": []
  },
  {
   "cell_type": "code",
   "execution_count": null,
   "metadata": {},
   "outputs": [],
   "source": []
  },
  {
   "cell_type": "code",
   "execution_count": null,
   "metadata": {},
   "outputs": [],
   "source": []
  }
 ],
 "metadata": {
  "kernelspec": {
   "display_name": "Python 3",
   "language": "python",
   "name": "python3"
  },
  "language_info": {
   "codemirror_mode": {
    "name": "ipython",
    "version": 3
   },
   "file_extension": ".py",
   "mimetype": "text/x-python",
   "name": "python",
   "nbconvert_exporter": "python",
   "pygments_lexer": "ipython3",
   "version": "3.7.4"
  }
 },
 "nbformat": 4,
 "nbformat_minor": 2
}
