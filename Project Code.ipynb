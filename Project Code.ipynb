{
 "cells": [
  {
   "cell_type": "code",
   "execution_count": 376,
   "metadata": {},
   "outputs": [],
   "source": [
    "import pandas as pd\n",
    "import numpy as np\n",
    "from sklearn.impute import SimpleImputer\n",
    "from sklearn.linear_model import LinearRegression, LassoCV, RidgeCV\n",
    "from sklearn.model_selection import train_test_split\n",
    "\n",
    "from sklearn.metrics import mean_squared_error, r2_score, mean_absolute_error\n",
    "from sklearn.neighbors import KNeighborsRegressor\n",
    "from sklearn.model_selection import train_test_split, cross_val_score\n",
    "from sklearn.preprocessing import StandardScaler, PolynomialFeatures\n",
    "from sklearn.pipeline import make_pipeline, Pipeline,FeatureUnion\n",
    "from sklearn.linear_model import Lasso, LinearRegression, Ridge\n",
    "from sklearn.model_selection import KFold, GridSearchCV\n",
    "from sklearn.tree import DecisionTreeRegressor\n",
    "from sklearn.svm import SVR\n",
    "from sklearn.ensemble import ExtraTreesRegressor\n",
    "from sklearn.compose import ColumnTransformer\n",
    "import warnings\n",
    "warnings.filterwarnings('ignore')"
   ]
  },
  {
   "cell_type": "code",
   "execution_count": 456,
   "metadata": {},
   "outputs": [],
   "source": [
    "import requests\n",
    "\n",
    "url = \"https://realtor.p.rapidapi.com/properties/v2/list-sold\"\n",
    "\n",
    "querystring = {\"radius\":\"20\",\"sort\":\"sold_date\",\"city\":\"Vancouver\",\"offset\":\"0\",\"state_code\":\"WA\",\"limit\":\"500\"}\n",
    "\n",
    "headers = {\n",
    "    'x-rapidapi-host': \"realtor.p.rapidapi.com\",\n",
    "    'x-rapidapi-key': \"203979cc92msh319184830b135b3p13c42ejsnfa422652b4a0\"\n",
    "    }\n",
    "\n",
    "response = requests.request(\"GET\", url, headers=headers, params=querystring)\n",
    "\n",
    "#print(response.text)"
   ]
  },
  {
   "cell_type": "code",
   "execution_count": 224,
   "metadata": {},
   "outputs": [],
   "source": [
    "import json\n",
    "from pandas.io.json import json_normalize\n",
    "import pandas as pd\n",
    "\n",
    "response_data = json.loads(response.text)\n",
    "df = json_normalize(response_data['properties'])\n",
    "\n",
    "#df1 = json_normalize([df[\"properties\"][i][0] for i in range(0, df.shape[0])])\n",
    "\n",
    "#final_df = pd.concat([df, df1], axis=1)\n",
    "\n",
    "#final_df.drop(\"properties\", axis=1, inplace=True)"
   ]
  },
  {
   "cell_type": "code",
   "execution_count": 225,
   "metadata": {},
   "outputs": [
    {
     "data": {
      "text/html": [
       "<div>\n",
       "<style scoped>\n",
       "    .dataframe tbody tr th:only-of-type {\n",
       "        vertical-align: middle;\n",
       "    }\n",
       "\n",
       "    .dataframe tbody tr th {\n",
       "        vertical-align: top;\n",
       "    }\n",
       "\n",
       "    .dataframe thead th {\n",
       "        text-align: right;\n",
       "    }\n",
       "</style>\n",
       "<table border=\"1\" class=\"dataframe\">\n",
       "  <thead>\n",
       "    <tr style=\"text-align: right;\">\n",
       "      <th></th>\n",
       "      <th>property_id</th>\n",
       "      <th>listing_id</th>\n",
       "      <th>prop_type</th>\n",
       "      <th>list_date</th>\n",
       "      <th>last_update</th>\n",
       "      <th>year_built</th>\n",
       "      <th>beds</th>\n",
       "      <th>baths_full</th>\n",
       "      <th>baths_half</th>\n",
       "      <th>prop_status</th>\n",
       "      <th>...</th>\n",
       "      <th>office.photo</th>\n",
       "      <th>office.id</th>\n",
       "      <th>office.phones</th>\n",
       "      <th>building_size.size</th>\n",
       "      <th>building_size.units</th>\n",
       "      <th>garage</th>\n",
       "      <th>lot_size.size</th>\n",
       "      <th>lot_size.units</th>\n",
       "      <th>office.photo.href</th>\n",
       "      <th>price_reduced_date</th>\n",
       "    </tr>\n",
       "  </thead>\n",
       "  <tbody>\n",
       "    <tr>\n",
       "      <td>0</td>\n",
       "      <td>O9583819434</td>\n",
       "      <td>2920084365</td>\n",
       "      <td>condo</td>\n",
       "      <td>2020-08-15T17:18:21Z</td>\n",
       "      <td>2020-12-08T14:29:55Z</td>\n",
       "      <td>2020.0</td>\n",
       "      <td>1.0</td>\n",
       "      <td>1.0</td>\n",
       "      <td>NaN</td>\n",
       "      <td>not_for_sale</td>\n",
       "      <td>...</td>\n",
       "      <td>NaN</td>\n",
       "      <td>5731db4d2626289edf9a41788a5b0e8d</td>\n",
       "      <td>[{'number': '503-459-3987', 'type': 'office', ...</td>\n",
       "      <td>651.0</td>\n",
       "      <td>sqft</td>\n",
       "      <td>NaN</td>\n",
       "      <td>NaN</td>\n",
       "      <td>NaN</td>\n",
       "      <td>NaN</td>\n",
       "      <td>NaN</td>\n",
       "    </tr>\n",
       "    <tr>\n",
       "      <td>1</td>\n",
       "      <td>O1785124782</td>\n",
       "      <td>2923095483</td>\n",
       "      <td>single_family</td>\n",
       "      <td>2020-11-04T14:57:46Z</td>\n",
       "      <td>2020-12-08T14:15:23Z</td>\n",
       "      <td>2008.0</td>\n",
       "      <td>4.0</td>\n",
       "      <td>2.0</td>\n",
       "      <td>1.0</td>\n",
       "      <td>not_for_sale</td>\n",
       "      <td>...</td>\n",
       "      <td>NaN</td>\n",
       "      <td>003eeebb5598702cc8469d4b633b5d83</td>\n",
       "      <td>[{'number': '360-558-3945', 'type': 'office', ...</td>\n",
       "      <td>1558.0</td>\n",
       "      <td>sqft</td>\n",
       "      <td>2</td>\n",
       "      <td>2614.0</td>\n",
       "      <td>sqft</td>\n",
       "      <td>NaN</td>\n",
       "      <td>NaN</td>\n",
       "    </tr>\n",
       "    <tr>\n",
       "      <td>2</td>\n",
       "      <td>O2375758697</td>\n",
       "      <td>2921938790</td>\n",
       "      <td>single_family</td>\n",
       "      <td>2020-10-01T10:11:54Z</td>\n",
       "      <td>2020-12-08T09:26:03Z</td>\n",
       "      <td>1995.0</td>\n",
       "      <td>3.0</td>\n",
       "      <td>2.0</td>\n",
       "      <td>NaN</td>\n",
       "      <td>not_for_sale</td>\n",
       "      <td>...</td>\n",
       "      <td>NaN</td>\n",
       "      <td>7d703a64b04ad9569deffdc9148f526a</td>\n",
       "      <td>[{'number': None, 'type': '', 'primary': True}]</td>\n",
       "      <td>1201.0</td>\n",
       "      <td>sqft</td>\n",
       "      <td>2</td>\n",
       "      <td>6970.0</td>\n",
       "      <td>sqft</td>\n",
       "      <td>NaN</td>\n",
       "      <td>NaN</td>\n",
       "    </tr>\n",
       "    <tr>\n",
       "      <td>3</td>\n",
       "      <td>O1158614342</td>\n",
       "      <td>2922770457</td>\n",
       "      <td>single_family</td>\n",
       "      <td>2020-10-24T03:03:37Z</td>\n",
       "      <td>2020-12-08T12:36:09Z</td>\n",
       "      <td>1973.0</td>\n",
       "      <td>3.0</td>\n",
       "      <td>1.0</td>\n",
       "      <td>NaN</td>\n",
       "      <td>not_for_sale</td>\n",
       "      <td>...</td>\n",
       "      <td>NaN</td>\n",
       "      <td>8f695065df0875243f6dd8b7ad99ca2c</td>\n",
       "      <td>[{'number': '360-882-6000', 'type': 'office', ...</td>\n",
       "      <td>1041.0</td>\n",
       "      <td>sqft</td>\n",
       "      <td>1</td>\n",
       "      <td>5227.0</td>\n",
       "      <td>sqft</td>\n",
       "      <td>NaN</td>\n",
       "      <td>NaN</td>\n",
       "    </tr>\n",
       "    <tr>\n",
       "      <td>4</td>\n",
       "      <td>O2426375659</td>\n",
       "      <td>2922956388</td>\n",
       "      <td>condo</td>\n",
       "      <td>2020-10-30T15:11:53Z</td>\n",
       "      <td>2020-12-08T14:25:44Z</td>\n",
       "      <td>2013.0</td>\n",
       "      <td>4.0</td>\n",
       "      <td>3.0</td>\n",
       "      <td>NaN</td>\n",
       "      <td>not_for_sale</td>\n",
       "      <td>...</td>\n",
       "      <td>NaN</td>\n",
       "      <td>5d414bebcd34f799b699916edb7f2697</td>\n",
       "      <td>[{'number': '503-284-9443', 'type': 'home', 'p...</td>\n",
       "      <td>2018.0</td>\n",
       "      <td>sqft</td>\n",
       "      <td>1</td>\n",
       "      <td>2614.0</td>\n",
       "      <td>sqft</td>\n",
       "      <td>https://ap.rdcpix.com/626551046/12098233513df6...</td>\n",
       "      <td>NaN</td>\n",
       "    </tr>\n",
       "    <tr>\n",
       "      <td>...</td>\n",
       "      <td>...</td>\n",
       "      <td>...</td>\n",
       "      <td>...</td>\n",
       "      <td>...</td>\n",
       "      <td>...</td>\n",
       "      <td>...</td>\n",
       "      <td>...</td>\n",
       "      <td>...</td>\n",
       "      <td>...</td>\n",
       "      <td>...</td>\n",
       "      <td>...</td>\n",
       "      <td>...</td>\n",
       "      <td>...</td>\n",
       "      <td>...</td>\n",
       "      <td>...</td>\n",
       "      <td>...</td>\n",
       "      <td>...</td>\n",
       "      <td>...</td>\n",
       "      <td>...</td>\n",
       "      <td>...</td>\n",
       "      <td>...</td>\n",
       "    </tr>\n",
       "    <tr>\n",
       "      <td>195</td>\n",
       "      <td>O1921684407</td>\n",
       "      <td>2922891751</td>\n",
       "      <td>single_family</td>\n",
       "      <td>2020-10-28T20:05:39Z</td>\n",
       "      <td>2020-12-01T10:27:08Z</td>\n",
       "      <td>1923.0</td>\n",
       "      <td>3.0</td>\n",
       "      <td>2.0</td>\n",
       "      <td>NaN</td>\n",
       "      <td>not_for_sale</td>\n",
       "      <td>...</td>\n",
       "      <td>NaN</td>\n",
       "      <td>623c1b392a9c46516c5fc7a7a3c6dd09</td>\n",
       "      <td>[{'number': '541-316-8646', 'type': 'office', ...</td>\n",
       "      <td>1912.0</td>\n",
       "      <td>sqft</td>\n",
       "      <td>1</td>\n",
       "      <td>4792.0</td>\n",
       "      <td>sqft</td>\n",
       "      <td>NaN</td>\n",
       "      <td>NaN</td>\n",
       "    </tr>\n",
       "    <tr>\n",
       "      <td>196</td>\n",
       "      <td>O1023307147</td>\n",
       "      <td>2922882627</td>\n",
       "      <td>single_family</td>\n",
       "      <td>2020-10-28T16:46:09Z</td>\n",
       "      <td>2020-12-04T15:27:00Z</td>\n",
       "      <td>2007.0</td>\n",
       "      <td>3.0</td>\n",
       "      <td>2.0</td>\n",
       "      <td>1.0</td>\n",
       "      <td>not_for_sale</td>\n",
       "      <td>...</td>\n",
       "      <td>NaN</td>\n",
       "      <td>dc036c7a73287f2f24fe72082f6dfa94</td>\n",
       "      <td>[{'number': '503-624-9660', 'type': 'office', ...</td>\n",
       "      <td>1380.0</td>\n",
       "      <td>sqft</td>\n",
       "      <td>1</td>\n",
       "      <td>2614.0</td>\n",
       "      <td>sqft</td>\n",
       "      <td>https://ap.rdcpix.com/1775647882/de72f2cc6d8b3...</td>\n",
       "      <td>NaN</td>\n",
       "    </tr>\n",
       "    <tr>\n",
       "      <td>197</td>\n",
       "      <td>O1934092040</td>\n",
       "      <td>2922545674</td>\n",
       "      <td>single_family</td>\n",
       "      <td>2020-10-17T18:22:08Z</td>\n",
       "      <td>2020-12-01T15:20:11Z</td>\n",
       "      <td>1914.0</td>\n",
       "      <td>3.0</td>\n",
       "      <td>2.0</td>\n",
       "      <td>NaN</td>\n",
       "      <td>not_for_sale</td>\n",
       "      <td>...</td>\n",
       "      <td>NaN</td>\n",
       "      <td>7f57b1432c450de8461da437c8b70351</td>\n",
       "      <td>[{'number': '503-546-9955', 'type': 'office', ...</td>\n",
       "      <td>1738.0</td>\n",
       "      <td>sqft</td>\n",
       "      <td>2</td>\n",
       "      <td>4792.0</td>\n",
       "      <td>sqft</td>\n",
       "      <td>NaN</td>\n",
       "      <td>NaN</td>\n",
       "    </tr>\n",
       "    <tr>\n",
       "      <td>198</td>\n",
       "      <td>O2353367307</td>\n",
       "      <td>2920669014</td>\n",
       "      <td>condo</td>\n",
       "      <td>2020-08-30T18:48:07Z</td>\n",
       "      <td>2020-12-02T10:03:16Z</td>\n",
       "      <td>2004.0</td>\n",
       "      <td>3.0</td>\n",
       "      <td>2.0</td>\n",
       "      <td>1.0</td>\n",
       "      <td>not_for_sale</td>\n",
       "      <td>...</td>\n",
       "      <td>NaN</td>\n",
       "      <td>00715a1552608371b148901b8467b10d</td>\n",
       "      <td>[{'number': '503-652-2260', 'type': 'home', 'p...</td>\n",
       "      <td>1236.0</td>\n",
       "      <td>sqft</td>\n",
       "      <td>1</td>\n",
       "      <td>2178.0</td>\n",
       "      <td>sqft</td>\n",
       "      <td>NaN</td>\n",
       "      <td>NaN</td>\n",
       "    </tr>\n",
       "    <tr>\n",
       "      <td>199</td>\n",
       "      <td>O1259816597</td>\n",
       "      <td>2922703151</td>\n",
       "      <td>single_family</td>\n",
       "      <td>2020-10-22T19:18:50Z</td>\n",
       "      <td>2020-12-01T13:37:26Z</td>\n",
       "      <td>1955.0</td>\n",
       "      <td>3.0</td>\n",
       "      <td>2.0</td>\n",
       "      <td>NaN</td>\n",
       "      <td>not_for_sale</td>\n",
       "      <td>...</td>\n",
       "      <td>NaN</td>\n",
       "      <td>623c1b392a9c46516c5fc7a7a3c6dd09</td>\n",
       "      <td>[{'number': '541-316-8646', 'type': 'office', ...</td>\n",
       "      <td>1080.0</td>\n",
       "      <td>sqft</td>\n",
       "      <td>NaN</td>\n",
       "      <td>7405.0</td>\n",
       "      <td>sqft</td>\n",
       "      <td>NaN</td>\n",
       "      <td>NaN</td>\n",
       "    </tr>\n",
       "  </tbody>\n",
       "</table>\n",
       "<p>200 rows × 72 columns</p>\n",
       "</div>"
      ],
      "text/plain": [
       "     property_id  listing_id      prop_type             list_date  \\\n",
       "0    O9583819434  2920084365          condo  2020-08-15T17:18:21Z   \n",
       "1    O1785124782  2923095483  single_family  2020-11-04T14:57:46Z   \n",
       "2    O2375758697  2921938790  single_family  2020-10-01T10:11:54Z   \n",
       "3    O1158614342  2922770457  single_family  2020-10-24T03:03:37Z   \n",
       "4    O2426375659  2922956388          condo  2020-10-30T15:11:53Z   \n",
       "..           ...         ...            ...                   ...   \n",
       "195  O1921684407  2922891751  single_family  2020-10-28T20:05:39Z   \n",
       "196  O1023307147  2922882627  single_family  2020-10-28T16:46:09Z   \n",
       "197  O1934092040  2922545674  single_family  2020-10-17T18:22:08Z   \n",
       "198  O2353367307  2920669014          condo  2020-08-30T18:48:07Z   \n",
       "199  O1259816597  2922703151  single_family  2020-10-22T19:18:50Z   \n",
       "\n",
       "              last_update  year_built  beds  baths_full  baths_half  \\\n",
       "0    2020-12-08T14:29:55Z      2020.0   1.0         1.0         NaN   \n",
       "1    2020-12-08T14:15:23Z      2008.0   4.0         2.0         1.0   \n",
       "2    2020-12-08T09:26:03Z      1995.0   3.0         2.0         NaN   \n",
       "3    2020-12-08T12:36:09Z      1973.0   3.0         1.0         NaN   \n",
       "4    2020-12-08T14:25:44Z      2013.0   4.0         3.0         NaN   \n",
       "..                    ...         ...   ...         ...         ...   \n",
       "195  2020-12-01T10:27:08Z      1923.0   3.0         2.0         NaN   \n",
       "196  2020-12-04T15:27:00Z      2007.0   3.0         2.0         1.0   \n",
       "197  2020-12-01T15:20:11Z      1914.0   3.0         2.0         NaN   \n",
       "198  2020-12-02T10:03:16Z      2004.0   3.0         2.0         1.0   \n",
       "199  2020-12-01T13:37:26Z      1955.0   3.0         2.0         NaN   \n",
       "\n",
       "      prop_status  ... office.photo                         office.id  \\\n",
       "0    not_for_sale  ...          NaN  5731db4d2626289edf9a41788a5b0e8d   \n",
       "1    not_for_sale  ...          NaN  003eeebb5598702cc8469d4b633b5d83   \n",
       "2    not_for_sale  ...          NaN  7d703a64b04ad9569deffdc9148f526a   \n",
       "3    not_for_sale  ...          NaN  8f695065df0875243f6dd8b7ad99ca2c   \n",
       "4    not_for_sale  ...          NaN  5d414bebcd34f799b699916edb7f2697   \n",
       "..            ...  ...          ...                               ...   \n",
       "195  not_for_sale  ...          NaN  623c1b392a9c46516c5fc7a7a3c6dd09   \n",
       "196  not_for_sale  ...          NaN  dc036c7a73287f2f24fe72082f6dfa94   \n",
       "197  not_for_sale  ...          NaN  7f57b1432c450de8461da437c8b70351   \n",
       "198  not_for_sale  ...          NaN  00715a1552608371b148901b8467b10d   \n",
       "199  not_for_sale  ...          NaN  623c1b392a9c46516c5fc7a7a3c6dd09   \n",
       "\n",
       "                                         office.phones building_size.size  \\\n",
       "0    [{'number': '503-459-3987', 'type': 'office', ...              651.0   \n",
       "1    [{'number': '360-558-3945', 'type': 'office', ...             1558.0   \n",
       "2      [{'number': None, 'type': '', 'primary': True}]             1201.0   \n",
       "3    [{'number': '360-882-6000', 'type': 'office', ...             1041.0   \n",
       "4    [{'number': '503-284-9443', 'type': 'home', 'p...             2018.0   \n",
       "..                                                 ...                ...   \n",
       "195  [{'number': '541-316-8646', 'type': 'office', ...             1912.0   \n",
       "196  [{'number': '503-624-9660', 'type': 'office', ...             1380.0   \n",
       "197  [{'number': '503-546-9955', 'type': 'office', ...             1738.0   \n",
       "198  [{'number': '503-652-2260', 'type': 'home', 'p...             1236.0   \n",
       "199  [{'number': '541-316-8646', 'type': 'office', ...             1080.0   \n",
       "\n",
       "    building_size.units  garage lot_size.size  lot_size.units  \\\n",
       "0                  sqft     NaN           NaN             NaN   \n",
       "1                  sqft       2        2614.0            sqft   \n",
       "2                  sqft       2        6970.0            sqft   \n",
       "3                  sqft       1        5227.0            sqft   \n",
       "4                  sqft       1        2614.0            sqft   \n",
       "..                  ...     ...           ...             ...   \n",
       "195                sqft       1        4792.0            sqft   \n",
       "196                sqft       1        2614.0            sqft   \n",
       "197                sqft       2        4792.0            sqft   \n",
       "198                sqft       1        2178.0            sqft   \n",
       "199                sqft     NaN        7405.0            sqft   \n",
       "\n",
       "                                     office.photo.href price_reduced_date  \n",
       "0                                                  NaN                NaN  \n",
       "1                                                  NaN                NaN  \n",
       "2                                                  NaN                NaN  \n",
       "3                                                  NaN                NaN  \n",
       "4    https://ap.rdcpix.com/626551046/12098233513df6...                NaN  \n",
       "..                                                 ...                ...  \n",
       "195                                                NaN                NaN  \n",
       "196  https://ap.rdcpix.com/1775647882/de72f2cc6d8b3...                NaN  \n",
       "197                                                NaN                NaN  \n",
       "198                                                NaN                NaN  \n",
       "199                                                NaN                NaN  \n",
       "\n",
       "[200 rows x 72 columns]"
      ]
     },
     "execution_count": 225,
     "metadata": {},
     "output_type": "execute_result"
    }
   ],
   "source": [
    "df"
   ]
  },
  {
   "cell_type": "code",
   "execution_count": null,
   "metadata": {},
   "outputs": [],
   "source": []
  },
  {
   "cell_type": "code",
   "execution_count": 227,
   "metadata": {},
   "outputs": [],
   "source": [
    "buildings = df[['prop_type','year_built','beds','baths_full','garage','baths_half','price','baths','address.city','address.state','address.postal_code','address.county','lot_size.size','building_size.size']]"
   ]
  },
  {
   "cell_type": "code",
   "execution_count": 228,
   "metadata": {},
   "outputs": [
    {
     "data": {
      "text/html": [
       "<div>\n",
       "<style scoped>\n",
       "    .dataframe tbody tr th:only-of-type {\n",
       "        vertical-align: middle;\n",
       "    }\n",
       "\n",
       "    .dataframe tbody tr th {\n",
       "        vertical-align: top;\n",
       "    }\n",
       "\n",
       "    .dataframe thead th {\n",
       "        text-align: right;\n",
       "    }\n",
       "</style>\n",
       "<table border=\"1\" class=\"dataframe\">\n",
       "  <thead>\n",
       "    <tr style=\"text-align: right;\">\n",
       "      <th></th>\n",
       "      <th>prop_type</th>\n",
       "      <th>year_built</th>\n",
       "      <th>beds</th>\n",
       "      <th>baths_full</th>\n",
       "      <th>garage</th>\n",
       "      <th>baths_half</th>\n",
       "      <th>price</th>\n",
       "      <th>baths</th>\n",
       "      <th>address.city</th>\n",
       "      <th>address.state</th>\n",
       "      <th>address.postal_code</th>\n",
       "      <th>address.county</th>\n",
       "      <th>lot_size.size</th>\n",
       "      <th>building_size.size</th>\n",
       "    </tr>\n",
       "  </thead>\n",
       "  <tbody>\n",
       "    <tr>\n",
       "      <td>0</td>\n",
       "      <td>condo</td>\n",
       "      <td>2020.0</td>\n",
       "      <td>1.0</td>\n",
       "      <td>1.0</td>\n",
       "      <td>NaN</td>\n",
       "      <td>NaN</td>\n",
       "      <td>254900</td>\n",
       "      <td>1</td>\n",
       "      <td>Portland</td>\n",
       "      <td>Oregon</td>\n",
       "      <td>97217</td>\n",
       "      <td>Multnomah</td>\n",
       "      <td>NaN</td>\n",
       "      <td>651.0</td>\n",
       "    </tr>\n",
       "    <tr>\n",
       "      <td>1</td>\n",
       "      <td>single_family</td>\n",
       "      <td>2008.0</td>\n",
       "      <td>4.0</td>\n",
       "      <td>2.0</td>\n",
       "      <td>2</td>\n",
       "      <td>1.0</td>\n",
       "      <td>330000</td>\n",
       "      <td>3</td>\n",
       "      <td>Vancouver</td>\n",
       "      <td>Washington</td>\n",
       "      <td>98661</td>\n",
       "      <td>Clark</td>\n",
       "      <td>2614.0</td>\n",
       "      <td>1558.0</td>\n",
       "    </tr>\n",
       "    <tr>\n",
       "      <td>2</td>\n",
       "      <td>single_family</td>\n",
       "      <td>1995.0</td>\n",
       "      <td>3.0</td>\n",
       "      <td>2.0</td>\n",
       "      <td>2</td>\n",
       "      <td>NaN</td>\n",
       "      <td>350000</td>\n",
       "      <td>2</td>\n",
       "      <td>Vancouver</td>\n",
       "      <td>Washington</td>\n",
       "      <td>98682</td>\n",
       "      <td>Clark</td>\n",
       "      <td>6970.0</td>\n",
       "      <td>1201.0</td>\n",
       "    </tr>\n",
       "    <tr>\n",
       "      <td>3</td>\n",
       "      <td>single_family</td>\n",
       "      <td>1973.0</td>\n",
       "      <td>3.0</td>\n",
       "      <td>1.0</td>\n",
       "      <td>1</td>\n",
       "      <td>NaN</td>\n",
       "      <td>320000</td>\n",
       "      <td>1</td>\n",
       "      <td>Washougal</td>\n",
       "      <td>Washington</td>\n",
       "      <td>98671</td>\n",
       "      <td>Clark</td>\n",
       "      <td>5227.0</td>\n",
       "      <td>1041.0</td>\n",
       "    </tr>\n",
       "    <tr>\n",
       "      <td>4</td>\n",
       "      <td>condo</td>\n",
       "      <td>2013.0</td>\n",
       "      <td>4.0</td>\n",
       "      <td>3.0</td>\n",
       "      <td>1</td>\n",
       "      <td>NaN</td>\n",
       "      <td>535000</td>\n",
       "      <td>3</td>\n",
       "      <td>Portland</td>\n",
       "      <td>Oregon</td>\n",
       "      <td>97211</td>\n",
       "      <td>Multnomah</td>\n",
       "      <td>2614.0</td>\n",
       "      <td>2018.0</td>\n",
       "    </tr>\n",
       "    <tr>\n",
       "      <td>...</td>\n",
       "      <td>...</td>\n",
       "      <td>...</td>\n",
       "      <td>...</td>\n",
       "      <td>...</td>\n",
       "      <td>...</td>\n",
       "      <td>...</td>\n",
       "      <td>...</td>\n",
       "      <td>...</td>\n",
       "      <td>...</td>\n",
       "      <td>...</td>\n",
       "      <td>...</td>\n",
       "      <td>...</td>\n",
       "      <td>...</td>\n",
       "      <td>...</td>\n",
       "    </tr>\n",
       "    <tr>\n",
       "      <td>195</td>\n",
       "      <td>single_family</td>\n",
       "      <td>1923.0</td>\n",
       "      <td>3.0</td>\n",
       "      <td>2.0</td>\n",
       "      <td>1</td>\n",
       "      <td>NaN</td>\n",
       "      <td>640000</td>\n",
       "      <td>2</td>\n",
       "      <td>Portland</td>\n",
       "      <td>Oregon</td>\n",
       "      <td>97211</td>\n",
       "      <td>Multnomah</td>\n",
       "      <td>4792.0</td>\n",
       "      <td>1912.0</td>\n",
       "    </tr>\n",
       "    <tr>\n",
       "      <td>196</td>\n",
       "      <td>single_family</td>\n",
       "      <td>2007.0</td>\n",
       "      <td>3.0</td>\n",
       "      <td>2.0</td>\n",
       "      <td>1</td>\n",
       "      <td>1.0</td>\n",
       "      <td>430000</td>\n",
       "      <td>3</td>\n",
       "      <td>Portland</td>\n",
       "      <td>Oregon</td>\n",
       "      <td>97203</td>\n",
       "      <td>Multnomah</td>\n",
       "      <td>2614.0</td>\n",
       "      <td>1380.0</td>\n",
       "    </tr>\n",
       "    <tr>\n",
       "      <td>197</td>\n",
       "      <td>single_family</td>\n",
       "      <td>1914.0</td>\n",
       "      <td>3.0</td>\n",
       "      <td>2.0</td>\n",
       "      <td>2</td>\n",
       "      <td>NaN</td>\n",
       "      <td>470000</td>\n",
       "      <td>2</td>\n",
       "      <td>Portland</td>\n",
       "      <td>Oregon</td>\n",
       "      <td>97203</td>\n",
       "      <td>Multnomah</td>\n",
       "      <td>4792.0</td>\n",
       "      <td>1738.0</td>\n",
       "    </tr>\n",
       "    <tr>\n",
       "      <td>198</td>\n",
       "      <td>condo</td>\n",
       "      <td>2004.0</td>\n",
       "      <td>3.0</td>\n",
       "      <td>2.0</td>\n",
       "      <td>1</td>\n",
       "      <td>1.0</td>\n",
       "      <td>274000</td>\n",
       "      <td>3</td>\n",
       "      <td>Portland</td>\n",
       "      <td>Oregon</td>\n",
       "      <td>97233</td>\n",
       "      <td>Multnomah</td>\n",
       "      <td>2178.0</td>\n",
       "      <td>1236.0</td>\n",
       "    </tr>\n",
       "    <tr>\n",
       "      <td>199</td>\n",
       "      <td>single_family</td>\n",
       "      <td>1955.0</td>\n",
       "      <td>3.0</td>\n",
       "      <td>2.0</td>\n",
       "      <td>NaN</td>\n",
       "      <td>NaN</td>\n",
       "      <td>363000</td>\n",
       "      <td>2</td>\n",
       "      <td>Portland</td>\n",
       "      <td>Oregon</td>\n",
       "      <td>97230</td>\n",
       "      <td>Multnomah</td>\n",
       "      <td>7405.0</td>\n",
       "      <td>1080.0</td>\n",
       "    </tr>\n",
       "  </tbody>\n",
       "</table>\n",
       "<p>200 rows × 14 columns</p>\n",
       "</div>"
      ],
      "text/plain": [
       "         prop_type  year_built  beds  baths_full garage  baths_half   price  \\\n",
       "0            condo      2020.0   1.0         1.0    NaN         NaN  254900   \n",
       "1    single_family      2008.0   4.0         2.0      2         1.0  330000   \n",
       "2    single_family      1995.0   3.0         2.0      2         NaN  350000   \n",
       "3    single_family      1973.0   3.0         1.0      1         NaN  320000   \n",
       "4            condo      2013.0   4.0         3.0      1         NaN  535000   \n",
       "..             ...         ...   ...         ...    ...         ...     ...   \n",
       "195  single_family      1923.0   3.0         2.0      1         NaN  640000   \n",
       "196  single_family      2007.0   3.0         2.0      1         1.0  430000   \n",
       "197  single_family      1914.0   3.0         2.0      2         NaN  470000   \n",
       "198          condo      2004.0   3.0         2.0      1         1.0  274000   \n",
       "199  single_family      1955.0   3.0         2.0    NaN         NaN  363000   \n",
       "\n",
       "     baths address.city address.state address.postal_code address.county  \\\n",
       "0        1     Portland        Oregon               97217      Multnomah   \n",
       "1        3    Vancouver    Washington               98661          Clark   \n",
       "2        2    Vancouver    Washington               98682          Clark   \n",
       "3        1    Washougal    Washington               98671          Clark   \n",
       "4        3     Portland        Oregon               97211      Multnomah   \n",
       "..     ...          ...           ...                 ...            ...   \n",
       "195      2     Portland        Oregon               97211      Multnomah   \n",
       "196      3     Portland        Oregon               97203      Multnomah   \n",
       "197      2     Portland        Oregon               97203      Multnomah   \n",
       "198      3     Portland        Oregon               97233      Multnomah   \n",
       "199      2     Portland        Oregon               97230      Multnomah   \n",
       "\n",
       "     lot_size.size  building_size.size  \n",
       "0              NaN               651.0  \n",
       "1           2614.0              1558.0  \n",
       "2           6970.0              1201.0  \n",
       "3           5227.0              1041.0  \n",
       "4           2614.0              2018.0  \n",
       "..             ...                 ...  \n",
       "195         4792.0              1912.0  \n",
       "196         2614.0              1380.0  \n",
       "197         4792.0              1738.0  \n",
       "198         2178.0              1236.0  \n",
       "199         7405.0              1080.0  \n",
       "\n",
       "[200 rows x 14 columns]"
      ]
     },
     "execution_count": 228,
     "metadata": {},
     "output_type": "execute_result"
    }
   ],
   "source": [
    "buildings"
   ]
  },
  {
   "cell_type": "code",
   "execution_count": 229,
   "metadata": {},
   "outputs": [
    {
     "data": {
      "text/plain": [
       "prop_type                0\n",
       "year_built               1\n",
       "beds                     2\n",
       "baths_full               2\n",
       "garage                  24\n",
       "baths_half             109\n",
       "price                    0\n",
       "baths                    0\n",
       "address.city             0\n",
       "address.state            0\n",
       "address.postal_code      0\n",
       "address.county           0\n",
       "lot_size.size           19\n",
       "building_size.size       1\n",
       "dtype: int64"
      ]
     },
     "execution_count": 229,
     "metadata": {},
     "output_type": "execute_result"
    }
   ],
   "source": [
    "buildings.isna().sum()"
   ]
  },
  {
   "cell_type": "code",
   "execution_count": 230,
   "metadata": {},
   "outputs": [
    {
     "data": {
      "text/plain": [
       "year_built              1981.040201\n",
       "beds                       3.252525\n",
       "baths_full                 1.989899\n",
       "baths_half                 1.054945\n",
       "price                 470730.355000\n",
       "baths                      2.450000\n",
       "lot_size.size          15335.491713\n",
       "building_size.size      2019.758794\n",
       "Name: mean, dtype: float64"
      ]
     },
     "execution_count": 230,
     "metadata": {},
     "output_type": "execute_result"
    }
   ],
   "source": [
    "means = buildings.describe()\n",
    "means.loc['mean']"
   ]
  },
  {
   "cell_type": "code",
   "execution_count": null,
   "metadata": {},
   "outputs": [],
   "source": []
  },
  {
   "cell_type": "code",
   "execution_count": 231,
   "metadata": {},
   "outputs": [],
   "source": [
    "X = buildings.loc[:, buildings.columns != 'price']\n",
    "y = buildings['price']\n",
    "X = buildings.drop(['price'], axis = 1)"
   ]
  },
  {
   "cell_type": "code",
   "execution_count": 232,
   "metadata": {},
   "outputs": [],
   "source": [
    "X['year_built'].fillna(means.loc['mean'][0],inplace=True)\n",
    "X['beds'].fillna(means.loc['mean'][1],inplace=True)\n",
    "X['baths_full'].fillna(means.loc['mean'][2],inplace=True)\n",
    "X['garage'].fillna(0,inplace=True)\n",
    "X['baths_half'].fillna(means.loc['mean'][1],inplace=True)\n",
    "X['lot_size.size'].fillna(means.loc['mean'][6],inplace=True)\n",
    "X['building_size.size'].fillna(means.loc['mean'][7],inplace=True)"
   ]
  },
  {
   "cell_type": "code",
   "execution_count": 233,
   "metadata": {},
   "outputs": [
    {
     "data": {
      "text/plain": [
       "prop_type              0\n",
       "year_built             0\n",
       "beds                   0\n",
       "baths_full             0\n",
       "garage                 0\n",
       "baths_half             0\n",
       "baths                  0\n",
       "address.city           0\n",
       "address.state          0\n",
       "address.postal_code    0\n",
       "address.county         0\n",
       "lot_size.size          0\n",
       "building_size.size     0\n",
       "dtype: int64"
      ]
     },
     "execution_count": 233,
     "metadata": {},
     "output_type": "execute_result"
    }
   ],
   "source": [
    "X.isna().sum()"
   ]
  },
  {
   "cell_type": "markdown",
   "metadata": {},
   "source": [
    "## Sepearte Numeric and Catigorical Variables "
   ]
  },
  {
   "cell_type": "code",
   "execution_count": 323,
   "metadata": {},
   "outputs": [],
   "source": [
    "X_num = X[X.select_dtypes(exclude='object').columns]\n",
    "X_cat = X[X.select_dtypes('object').columns]"
   ]
  },
  {
   "cell_type": "code",
   "execution_count": 324,
   "metadata": {},
   "outputs": [
    {
     "data": {
      "text/html": [
       "<div>\n",
       "<style scoped>\n",
       "    .dataframe tbody tr th:only-of-type {\n",
       "        vertical-align: middle;\n",
       "    }\n",
       "\n",
       "    .dataframe tbody tr th {\n",
       "        vertical-align: top;\n",
       "    }\n",
       "\n",
       "    .dataframe thead th {\n",
       "        text-align: right;\n",
       "    }\n",
       "</style>\n",
       "<table border=\"1\" class=\"dataframe\">\n",
       "  <thead>\n",
       "    <tr style=\"text-align: right;\">\n",
       "      <th></th>\n",
       "      <th>prop_type</th>\n",
       "      <th>garage</th>\n",
       "      <th>address.city</th>\n",
       "      <th>address.state</th>\n",
       "      <th>address.postal_code</th>\n",
       "      <th>address.county</th>\n",
       "    </tr>\n",
       "  </thead>\n",
       "  <tbody>\n",
       "    <tr>\n",
       "      <td>0</td>\n",
       "      <td>condo</td>\n",
       "      <td>0</td>\n",
       "      <td>Portland</td>\n",
       "      <td>Oregon</td>\n",
       "      <td>97217</td>\n",
       "      <td>Multnomah</td>\n",
       "    </tr>\n",
       "    <tr>\n",
       "      <td>1</td>\n",
       "      <td>single_family</td>\n",
       "      <td>2</td>\n",
       "      <td>Vancouver</td>\n",
       "      <td>Washington</td>\n",
       "      <td>98661</td>\n",
       "      <td>Clark</td>\n",
       "    </tr>\n",
       "    <tr>\n",
       "      <td>2</td>\n",
       "      <td>single_family</td>\n",
       "      <td>2</td>\n",
       "      <td>Vancouver</td>\n",
       "      <td>Washington</td>\n",
       "      <td>98682</td>\n",
       "      <td>Clark</td>\n",
       "    </tr>\n",
       "    <tr>\n",
       "      <td>3</td>\n",
       "      <td>single_family</td>\n",
       "      <td>1</td>\n",
       "      <td>Washougal</td>\n",
       "      <td>Washington</td>\n",
       "      <td>98671</td>\n",
       "      <td>Clark</td>\n",
       "    </tr>\n",
       "    <tr>\n",
       "      <td>4</td>\n",
       "      <td>condo</td>\n",
       "      <td>1</td>\n",
       "      <td>Portland</td>\n",
       "      <td>Oregon</td>\n",
       "      <td>97211</td>\n",
       "      <td>Multnomah</td>\n",
       "    </tr>\n",
       "    <tr>\n",
       "      <td>...</td>\n",
       "      <td>...</td>\n",
       "      <td>...</td>\n",
       "      <td>...</td>\n",
       "      <td>...</td>\n",
       "      <td>...</td>\n",
       "      <td>...</td>\n",
       "    </tr>\n",
       "    <tr>\n",
       "      <td>195</td>\n",
       "      <td>single_family</td>\n",
       "      <td>1</td>\n",
       "      <td>Portland</td>\n",
       "      <td>Oregon</td>\n",
       "      <td>97211</td>\n",
       "      <td>Multnomah</td>\n",
       "    </tr>\n",
       "    <tr>\n",
       "      <td>196</td>\n",
       "      <td>single_family</td>\n",
       "      <td>1</td>\n",
       "      <td>Portland</td>\n",
       "      <td>Oregon</td>\n",
       "      <td>97203</td>\n",
       "      <td>Multnomah</td>\n",
       "    </tr>\n",
       "    <tr>\n",
       "      <td>197</td>\n",
       "      <td>single_family</td>\n",
       "      <td>2</td>\n",
       "      <td>Portland</td>\n",
       "      <td>Oregon</td>\n",
       "      <td>97203</td>\n",
       "      <td>Multnomah</td>\n",
       "    </tr>\n",
       "    <tr>\n",
       "      <td>198</td>\n",
       "      <td>condo</td>\n",
       "      <td>1</td>\n",
       "      <td>Portland</td>\n",
       "      <td>Oregon</td>\n",
       "      <td>97233</td>\n",
       "      <td>Multnomah</td>\n",
       "    </tr>\n",
       "    <tr>\n",
       "      <td>199</td>\n",
       "      <td>single_family</td>\n",
       "      <td>0</td>\n",
       "      <td>Portland</td>\n",
       "      <td>Oregon</td>\n",
       "      <td>97230</td>\n",
       "      <td>Multnomah</td>\n",
       "    </tr>\n",
       "  </tbody>\n",
       "</table>\n",
       "<p>200 rows × 6 columns</p>\n",
       "</div>"
      ],
      "text/plain": [
       "         prop_type garage address.city address.state address.postal_code  \\\n",
       "0            condo      0     Portland        Oregon               97217   \n",
       "1    single_family      2    Vancouver    Washington               98661   \n",
       "2    single_family      2    Vancouver    Washington               98682   \n",
       "3    single_family      1    Washougal    Washington               98671   \n",
       "4            condo      1     Portland        Oregon               97211   \n",
       "..             ...    ...          ...           ...                 ...   \n",
       "195  single_family      1     Portland        Oregon               97211   \n",
       "196  single_family      1     Portland        Oregon               97203   \n",
       "197  single_family      2     Portland        Oregon               97203   \n",
       "198          condo      1     Portland        Oregon               97233   \n",
       "199  single_family      0     Portland        Oregon               97230   \n",
       "\n",
       "    address.county  \n",
       "0        Multnomah  \n",
       "1            Clark  \n",
       "2            Clark  \n",
       "3            Clark  \n",
       "4        Multnomah  \n",
       "..             ...  \n",
       "195      Multnomah  \n",
       "196      Multnomah  \n",
       "197      Multnomah  \n",
       "198      Multnomah  \n",
       "199      Multnomah  \n",
       "\n",
       "[200 rows x 6 columns]"
      ]
     },
     "execution_count": 324,
     "metadata": {},
     "output_type": "execute_result"
    }
   ],
   "source": [
    "X_cat"
   ]
  },
  {
   "cell_type": "markdown",
   "metadata": {},
   "source": [
    "## Replace Catigorical Variables With Dummy Variables "
   ]
  },
  {
   "cell_type": "code",
   "execution_count": 325,
   "metadata": {},
   "outputs": [],
   "source": [
    "X_cat = pd.get_dummies(X_cat)"
   ]
  },
  {
   "cell_type": "code",
   "execution_count": 326,
   "metadata": {},
   "outputs": [],
   "source": [
    "X_clean = X_num.join(X_cat)"
   ]
  },
  {
   "cell_type": "code",
   "execution_count": 327,
   "metadata": {},
   "outputs": [
    {
     "data": {
      "text/html": [
       "<div>\n",
       "<style scoped>\n",
       "    .dataframe tbody tr th:only-of-type {\n",
       "        vertical-align: middle;\n",
       "    }\n",
       "\n",
       "    .dataframe tbody tr th {\n",
       "        vertical-align: top;\n",
       "    }\n",
       "\n",
       "    .dataframe thead th {\n",
       "        text-align: right;\n",
       "    }\n",
       "</style>\n",
       "<table border=\"1\" class=\"dataframe\">\n",
       "  <thead>\n",
       "    <tr style=\"text-align: right;\">\n",
       "      <th></th>\n",
       "      <th>year_built</th>\n",
       "      <th>beds</th>\n",
       "      <th>baths_full</th>\n",
       "      <th>baths_half</th>\n",
       "      <th>baths</th>\n",
       "      <th>lot_size.size</th>\n",
       "      <th>building_size.size</th>\n",
       "      <th>prop_type_condo</th>\n",
       "      <th>prop_type_farm</th>\n",
       "      <th>prop_type_land</th>\n",
       "      <th>...</th>\n",
       "      <th>address.postal_code_98665</th>\n",
       "      <th>address.postal_code_98671</th>\n",
       "      <th>address.postal_code_98682</th>\n",
       "      <th>address.postal_code_98683</th>\n",
       "      <th>address.postal_code_98684</th>\n",
       "      <th>address.postal_code_98685</th>\n",
       "      <th>address.postal_code_98686</th>\n",
       "      <th>address.county_Clark</th>\n",
       "      <th>address.county_Columbia</th>\n",
       "      <th>address.county_Multnomah</th>\n",
       "    </tr>\n",
       "  </thead>\n",
       "  <tbody>\n",
       "    <tr>\n",
       "      <td>0</td>\n",
       "      <td>2020.0</td>\n",
       "      <td>1.0</td>\n",
       "      <td>1.0</td>\n",
       "      <td>3.252525</td>\n",
       "      <td>1</td>\n",
       "      <td>15335.491713</td>\n",
       "      <td>651.0</td>\n",
       "      <td>1</td>\n",
       "      <td>0</td>\n",
       "      <td>0</td>\n",
       "      <td>...</td>\n",
       "      <td>0</td>\n",
       "      <td>0</td>\n",
       "      <td>0</td>\n",
       "      <td>0</td>\n",
       "      <td>0</td>\n",
       "      <td>0</td>\n",
       "      <td>0</td>\n",
       "      <td>0</td>\n",
       "      <td>0</td>\n",
       "      <td>1</td>\n",
       "    </tr>\n",
       "    <tr>\n",
       "      <td>1</td>\n",
       "      <td>2008.0</td>\n",
       "      <td>4.0</td>\n",
       "      <td>2.0</td>\n",
       "      <td>1.000000</td>\n",
       "      <td>3</td>\n",
       "      <td>2614.000000</td>\n",
       "      <td>1558.0</td>\n",
       "      <td>0</td>\n",
       "      <td>0</td>\n",
       "      <td>0</td>\n",
       "      <td>...</td>\n",
       "      <td>0</td>\n",
       "      <td>0</td>\n",
       "      <td>0</td>\n",
       "      <td>0</td>\n",
       "      <td>0</td>\n",
       "      <td>0</td>\n",
       "      <td>0</td>\n",
       "      <td>1</td>\n",
       "      <td>0</td>\n",
       "      <td>0</td>\n",
       "    </tr>\n",
       "    <tr>\n",
       "      <td>2</td>\n",
       "      <td>1995.0</td>\n",
       "      <td>3.0</td>\n",
       "      <td>2.0</td>\n",
       "      <td>3.252525</td>\n",
       "      <td>2</td>\n",
       "      <td>6970.000000</td>\n",
       "      <td>1201.0</td>\n",
       "      <td>0</td>\n",
       "      <td>0</td>\n",
       "      <td>0</td>\n",
       "      <td>...</td>\n",
       "      <td>0</td>\n",
       "      <td>0</td>\n",
       "      <td>1</td>\n",
       "      <td>0</td>\n",
       "      <td>0</td>\n",
       "      <td>0</td>\n",
       "      <td>0</td>\n",
       "      <td>1</td>\n",
       "      <td>0</td>\n",
       "      <td>0</td>\n",
       "    </tr>\n",
       "    <tr>\n",
       "      <td>3</td>\n",
       "      <td>1973.0</td>\n",
       "      <td>3.0</td>\n",
       "      <td>1.0</td>\n",
       "      <td>3.252525</td>\n",
       "      <td>1</td>\n",
       "      <td>5227.000000</td>\n",
       "      <td>1041.0</td>\n",
       "      <td>0</td>\n",
       "      <td>0</td>\n",
       "      <td>0</td>\n",
       "      <td>...</td>\n",
       "      <td>0</td>\n",
       "      <td>1</td>\n",
       "      <td>0</td>\n",
       "      <td>0</td>\n",
       "      <td>0</td>\n",
       "      <td>0</td>\n",
       "      <td>0</td>\n",
       "      <td>1</td>\n",
       "      <td>0</td>\n",
       "      <td>0</td>\n",
       "    </tr>\n",
       "    <tr>\n",
       "      <td>4</td>\n",
       "      <td>2013.0</td>\n",
       "      <td>4.0</td>\n",
       "      <td>3.0</td>\n",
       "      <td>3.252525</td>\n",
       "      <td>3</td>\n",
       "      <td>2614.000000</td>\n",
       "      <td>2018.0</td>\n",
       "      <td>1</td>\n",
       "      <td>0</td>\n",
       "      <td>0</td>\n",
       "      <td>...</td>\n",
       "      <td>0</td>\n",
       "      <td>0</td>\n",
       "      <td>0</td>\n",
       "      <td>0</td>\n",
       "      <td>0</td>\n",
       "      <td>0</td>\n",
       "      <td>0</td>\n",
       "      <td>0</td>\n",
       "      <td>0</td>\n",
       "      <td>1</td>\n",
       "    </tr>\n",
       "    <tr>\n",
       "      <td>...</td>\n",
       "      <td>...</td>\n",
       "      <td>...</td>\n",
       "      <td>...</td>\n",
       "      <td>...</td>\n",
       "      <td>...</td>\n",
       "      <td>...</td>\n",
       "      <td>...</td>\n",
       "      <td>...</td>\n",
       "      <td>...</td>\n",
       "      <td>...</td>\n",
       "      <td>...</td>\n",
       "      <td>...</td>\n",
       "      <td>...</td>\n",
       "      <td>...</td>\n",
       "      <td>...</td>\n",
       "      <td>...</td>\n",
       "      <td>...</td>\n",
       "      <td>...</td>\n",
       "      <td>...</td>\n",
       "      <td>...</td>\n",
       "      <td>...</td>\n",
       "    </tr>\n",
       "    <tr>\n",
       "      <td>195</td>\n",
       "      <td>1923.0</td>\n",
       "      <td>3.0</td>\n",
       "      <td>2.0</td>\n",
       "      <td>3.252525</td>\n",
       "      <td>2</td>\n",
       "      <td>4792.000000</td>\n",
       "      <td>1912.0</td>\n",
       "      <td>0</td>\n",
       "      <td>0</td>\n",
       "      <td>0</td>\n",
       "      <td>...</td>\n",
       "      <td>0</td>\n",
       "      <td>0</td>\n",
       "      <td>0</td>\n",
       "      <td>0</td>\n",
       "      <td>0</td>\n",
       "      <td>0</td>\n",
       "      <td>0</td>\n",
       "      <td>0</td>\n",
       "      <td>0</td>\n",
       "      <td>1</td>\n",
       "    </tr>\n",
       "    <tr>\n",
       "      <td>196</td>\n",
       "      <td>2007.0</td>\n",
       "      <td>3.0</td>\n",
       "      <td>2.0</td>\n",
       "      <td>1.000000</td>\n",
       "      <td>3</td>\n",
       "      <td>2614.000000</td>\n",
       "      <td>1380.0</td>\n",
       "      <td>0</td>\n",
       "      <td>0</td>\n",
       "      <td>0</td>\n",
       "      <td>...</td>\n",
       "      <td>0</td>\n",
       "      <td>0</td>\n",
       "      <td>0</td>\n",
       "      <td>0</td>\n",
       "      <td>0</td>\n",
       "      <td>0</td>\n",
       "      <td>0</td>\n",
       "      <td>0</td>\n",
       "      <td>0</td>\n",
       "      <td>1</td>\n",
       "    </tr>\n",
       "    <tr>\n",
       "      <td>197</td>\n",
       "      <td>1914.0</td>\n",
       "      <td>3.0</td>\n",
       "      <td>2.0</td>\n",
       "      <td>3.252525</td>\n",
       "      <td>2</td>\n",
       "      <td>4792.000000</td>\n",
       "      <td>1738.0</td>\n",
       "      <td>0</td>\n",
       "      <td>0</td>\n",
       "      <td>0</td>\n",
       "      <td>...</td>\n",
       "      <td>0</td>\n",
       "      <td>0</td>\n",
       "      <td>0</td>\n",
       "      <td>0</td>\n",
       "      <td>0</td>\n",
       "      <td>0</td>\n",
       "      <td>0</td>\n",
       "      <td>0</td>\n",
       "      <td>0</td>\n",
       "      <td>1</td>\n",
       "    </tr>\n",
       "    <tr>\n",
       "      <td>198</td>\n",
       "      <td>2004.0</td>\n",
       "      <td>3.0</td>\n",
       "      <td>2.0</td>\n",
       "      <td>1.000000</td>\n",
       "      <td>3</td>\n",
       "      <td>2178.000000</td>\n",
       "      <td>1236.0</td>\n",
       "      <td>1</td>\n",
       "      <td>0</td>\n",
       "      <td>0</td>\n",
       "      <td>...</td>\n",
       "      <td>0</td>\n",
       "      <td>0</td>\n",
       "      <td>0</td>\n",
       "      <td>0</td>\n",
       "      <td>0</td>\n",
       "      <td>0</td>\n",
       "      <td>0</td>\n",
       "      <td>0</td>\n",
       "      <td>0</td>\n",
       "      <td>1</td>\n",
       "    </tr>\n",
       "    <tr>\n",
       "      <td>199</td>\n",
       "      <td>1955.0</td>\n",
       "      <td>3.0</td>\n",
       "      <td>2.0</td>\n",
       "      <td>3.252525</td>\n",
       "      <td>2</td>\n",
       "      <td>7405.000000</td>\n",
       "      <td>1080.0</td>\n",
       "      <td>0</td>\n",
       "      <td>0</td>\n",
       "      <td>0</td>\n",
       "      <td>...</td>\n",
       "      <td>0</td>\n",
       "      <td>0</td>\n",
       "      <td>0</td>\n",
       "      <td>0</td>\n",
       "      <td>0</td>\n",
       "      <td>0</td>\n",
       "      <td>0</td>\n",
       "      <td>0</td>\n",
       "      <td>0</td>\n",
       "      <td>1</td>\n",
       "    </tr>\n",
       "  </tbody>\n",
       "</table>\n",
       "<p>200 rows × 68 columns</p>\n",
       "</div>"
      ],
      "text/plain": [
       "     year_built  beds  baths_full  baths_half  baths  lot_size.size  \\\n",
       "0        2020.0   1.0         1.0    3.252525      1   15335.491713   \n",
       "1        2008.0   4.0         2.0    1.000000      3    2614.000000   \n",
       "2        1995.0   3.0         2.0    3.252525      2    6970.000000   \n",
       "3        1973.0   3.0         1.0    3.252525      1    5227.000000   \n",
       "4        2013.0   4.0         3.0    3.252525      3    2614.000000   \n",
       "..          ...   ...         ...         ...    ...            ...   \n",
       "195      1923.0   3.0         2.0    3.252525      2    4792.000000   \n",
       "196      2007.0   3.0         2.0    1.000000      3    2614.000000   \n",
       "197      1914.0   3.0         2.0    3.252525      2    4792.000000   \n",
       "198      2004.0   3.0         2.0    1.000000      3    2178.000000   \n",
       "199      1955.0   3.0         2.0    3.252525      2    7405.000000   \n",
       "\n",
       "     building_size.size  prop_type_condo  prop_type_farm  prop_type_land  ...  \\\n",
       "0                 651.0                1               0               0  ...   \n",
       "1                1558.0                0               0               0  ...   \n",
       "2                1201.0                0               0               0  ...   \n",
       "3                1041.0                0               0               0  ...   \n",
       "4                2018.0                1               0               0  ...   \n",
       "..                  ...              ...             ...             ...  ...   \n",
       "195              1912.0                0               0               0  ...   \n",
       "196              1380.0                0               0               0  ...   \n",
       "197              1738.0                0               0               0  ...   \n",
       "198              1236.0                1               0               0  ...   \n",
       "199              1080.0                0               0               0  ...   \n",
       "\n",
       "     address.postal_code_98665  address.postal_code_98671  \\\n",
       "0                            0                          0   \n",
       "1                            0                          0   \n",
       "2                            0                          0   \n",
       "3                            0                          1   \n",
       "4                            0                          0   \n",
       "..                         ...                        ...   \n",
       "195                          0                          0   \n",
       "196                          0                          0   \n",
       "197                          0                          0   \n",
       "198                          0                          0   \n",
       "199                          0                          0   \n",
       "\n",
       "     address.postal_code_98682  address.postal_code_98683  \\\n",
       "0                            0                          0   \n",
       "1                            0                          0   \n",
       "2                            1                          0   \n",
       "3                            0                          0   \n",
       "4                            0                          0   \n",
       "..                         ...                        ...   \n",
       "195                          0                          0   \n",
       "196                          0                          0   \n",
       "197                          0                          0   \n",
       "198                          0                          0   \n",
       "199                          0                          0   \n",
       "\n",
       "     address.postal_code_98684  address.postal_code_98685  \\\n",
       "0                            0                          0   \n",
       "1                            0                          0   \n",
       "2                            0                          0   \n",
       "3                            0                          0   \n",
       "4                            0                          0   \n",
       "..                         ...                        ...   \n",
       "195                          0                          0   \n",
       "196                          0                          0   \n",
       "197                          0                          0   \n",
       "198                          0                          0   \n",
       "199                          0                          0   \n",
       "\n",
       "     address.postal_code_98686  address.county_Clark  address.county_Columbia  \\\n",
       "0                            0                     0                        0   \n",
       "1                            0                     1                        0   \n",
       "2                            0                     1                        0   \n",
       "3                            0                     1                        0   \n",
       "4                            0                     0                        0   \n",
       "..                         ...                   ...                      ...   \n",
       "195                          0                     0                        0   \n",
       "196                          0                     0                        0   \n",
       "197                          0                     0                        0   \n",
       "198                          0                     0                        0   \n",
       "199                          0                     0                        0   \n",
       "\n",
       "     address.county_Multnomah  \n",
       "0                           1  \n",
       "1                           0  \n",
       "2                           0  \n",
       "3                           0  \n",
       "4                           1  \n",
       "..                        ...  \n",
       "195                         1  \n",
       "196                         1  \n",
       "197                         1  \n",
       "198                         1  \n",
       "199                         1  \n",
       "\n",
       "[200 rows x 68 columns]"
      ]
     },
     "execution_count": 327,
     "metadata": {},
     "output_type": "execute_result"
    }
   ],
   "source": [
    "X_clean"
   ]
  },
  {
   "cell_type": "markdown",
   "metadata": {},
   "source": [
    "## Machine Learning Models "
   ]
  },
  {
   "cell_type": "code",
   "execution_count": 328,
   "metadata": {},
   "outputs": [],
   "source": [
    "X_train, X_test, y_train, y_test = train_test_split(X_clean,y, test_size=.2, random_state=42)"
   ]
  },
  {
   "cell_type": "code",
   "execution_count": 329,
   "metadata": {},
   "outputs": [
    {
     "data": {
      "text/plain": [
       "79      417135\n",
       "197     470000\n",
       "38      539900\n",
       "24      865000\n",
       "122     345000\n",
       "        ...   \n",
       "106     525000\n",
       "14      552000\n",
       "92     2325000\n",
       "179     366000\n",
       "102     795000\n",
       "Name: price, Length: 160, dtype: int64"
      ]
     },
     "execution_count": 329,
     "metadata": {},
     "output_type": "execute_result"
    }
   ],
   "source": [
    "y_train"
   ]
  },
  {
   "cell_type": "markdown",
   "metadata": {},
   "source": [
    "### Lasso Regression "
   ]
  },
  {
   "cell_type": "code",
   "execution_count": 330,
   "metadata": {},
   "outputs": [],
   "source": [
    "lasso = Lasso(alpha=152)"
   ]
  },
  {
   "cell_type": "code",
   "execution_count": 331,
   "metadata": {},
   "outputs": [
    {
     "data": {
      "text/plain": [
       "Lasso(alpha=152, copy_X=True, fit_intercept=True, max_iter=1000,\n",
       "      normalize=False, positive=False, precompute=False, random_state=None,\n",
       "      selection='cyclic', tol=0.0001, warm_start=False)"
      ]
     },
     "execution_count": 331,
     "metadata": {},
     "output_type": "execute_result"
    }
   ],
   "source": [
    "lasso.fit(X_train, y_train)"
   ]
  },
  {
   "cell_type": "code",
   "execution_count": 332,
   "metadata": {},
   "outputs": [
    {
     "name": "stdout",
     "output_type": "stream",
     "text": [
      "5678272064.038322\n"
     ]
    }
   ],
   "source": [
    "lhat_train = lasso.predict(X_train)\n",
    "mse_lasso_train = mean_squared_error(y_train, lhat_train)\n",
    "print(mse_lasso_train)"
   ]
  },
  {
   "cell_type": "code",
   "execution_count": 335,
   "metadata": {},
   "outputs": [
    {
     "data": {
      "text/plain": [
       "0.8895660424220679"
      ]
     },
     "execution_count": 335,
     "metadata": {},
     "output_type": "execute_result"
    }
   ],
   "source": [
    "r2_score(y_train,lhat_train)"
   ]
  },
  {
   "cell_type": "code",
   "execution_count": 336,
   "metadata": {},
   "outputs": [
    {
     "name": "stdout",
     "output_type": "stream",
     "text": [
      "4036891793.971036\n"
     ]
    }
   ],
   "source": [
    "lhat_test = lasso.predict(X_test)\n",
    "mse_lasso_test = mean_squared_error(y_test, lhat_test)\n",
    "print(mse_lasso_test)"
   ]
  },
  {
   "cell_type": "code",
   "execution_count": 337,
   "metadata": {
    "scrolled": true
   },
   "outputs": [
    {
     "data": {
      "text/plain": [
       "0.7762438085390594"
      ]
     },
     "execution_count": 337,
     "metadata": {},
     "output_type": "execute_result"
    }
   ],
   "source": [
    "r2_score(y_test,lhat_test)"
   ]
  },
  {
   "cell_type": "markdown",
   "metadata": {},
   "source": [
    "### Linear Regression"
   ]
  },
  {
   "cell_type": "code",
   "execution_count": 338,
   "metadata": {},
   "outputs": [
    {
     "data": {
      "text/plain": [
       "LinearRegression(copy_X=True, fit_intercept=True, n_jobs=None, normalize=False)"
      ]
     },
     "execution_count": 338,
     "metadata": {},
     "output_type": "execute_result"
    }
   ],
   "source": [
    "lm = LinearRegression(fit_intercept=True, normalize=False)\n",
    "lm.fit(X_train, y_train)"
   ]
  },
  {
   "cell_type": "code",
   "execution_count": 341,
   "metadata": {},
   "outputs": [
    {
     "name": "stdout",
     "output_type": "stream",
     "text": [
      "5600321159.9145355\n"
     ]
    }
   ],
   "source": [
    "yhat_train = lm.predict(X_train)\n",
    "mse_lm_train = mean_squared_error(y_train, yhat_train)\n",
    "print(mse_lm_train)"
   ]
  },
  {
   "cell_type": "code",
   "execution_count": 342,
   "metadata": {},
   "outputs": [
    {
     "data": {
      "text/plain": [
       "0.8910820717250114"
      ]
     },
     "execution_count": 342,
     "metadata": {},
     "output_type": "execute_result"
    }
   ],
   "source": [
    "r2_score(y_train,yhat_train)"
   ]
  },
  {
   "cell_type": "code",
   "execution_count": 340,
   "metadata": {},
   "outputs": [
    {
     "name": "stdout",
     "output_type": "stream",
     "text": [
      "4791021560.331575\n"
     ]
    }
   ],
   "source": [
    "yhat_test = lm.predict(X_test)\n",
    "mse_lm_test = mean_squared_error(y_test, yhat_test)\n",
    "print(mse_lm_test)"
   ]
  },
  {
   "cell_type": "code",
   "execution_count": 343,
   "metadata": {
    "scrolled": true
   },
   "outputs": [
    {
     "data": {
      "text/plain": [
       "0.7344440246954169"
      ]
     },
     "execution_count": 343,
     "metadata": {},
     "output_type": "execute_result"
    }
   ],
   "source": [
    "r2_score(y_test,yhat_test)"
   ]
  },
  {
   "cell_type": "markdown",
   "metadata": {},
   "source": [
    "### K Nearest Neighbors Regression "
   ]
  },
  {
   "cell_type": "code",
   "execution_count": 345,
   "metadata": {},
   "outputs": [
    {
     "data": {
      "text/plain": [
       "KNeighborsRegressor(algorithm='auto', leaf_size=30, metric='minkowski',\n",
       "                    metric_params=None, n_jobs=None, n_neighbors=10, p=2,\n",
       "                    weights='uniform')"
      ]
     },
     "execution_count": 345,
     "metadata": {},
     "output_type": "execute_result"
    }
   ],
   "source": [
    "knn = KNeighborsRegressor(n_neighbors=10)\n",
    "knn.fit(X_train, y_train)"
   ]
  },
  {
   "cell_type": "code",
   "execution_count": 346,
   "metadata": {},
   "outputs": [
    {
     "name": "stdout",
     "output_type": "stream",
     "text": [
      "31990717279.330566\n"
     ]
    }
   ],
   "source": [
    "yhat_knn_train = knn.predict(X_train)\n",
    "mse_knn_train = mean_squared_error(y_train, yhat_knn_train)\n",
    "print(mse_knn_train)"
   ]
  },
  {
   "cell_type": "code",
   "execution_count": 349,
   "metadata": {},
   "outputs": [
    {
     "data": {
      "text/plain": [
       "0.37782806546245684"
      ]
     },
     "execution_count": 349,
     "metadata": {},
     "output_type": "execute_result"
    }
   ],
   "source": [
    "r2_score(y_train,yhat_knn_train)"
   ]
  },
  {
   "cell_type": "code",
   "execution_count": 347,
   "metadata": {},
   "outputs": [
    {
     "name": "stdout",
     "output_type": "stream",
     "text": [
      "9173943875.64425\n"
     ]
    }
   ],
   "source": [
    "yhat_knn_test = knn.predict(X_test)\n",
    "mse_knn_test = mean_squared_error(y_test, yhat_knn_test)\n",
    "print(mse_knn_test)"
   ]
  },
  {
   "cell_type": "code",
   "execution_count": 348,
   "metadata": {
    "scrolled": true
   },
   "outputs": [
    {
     "data": {
      "text/plain": [
       "0.49150810894751795"
      ]
     },
     "execution_count": 348,
     "metadata": {},
     "output_type": "execute_result"
    }
   ],
   "source": [
    "r2_score(y_test,yhat_knn_test)"
   ]
  },
  {
   "cell_type": "markdown",
   "metadata": {},
   "source": [
    "### Decision Tree Regression "
   ]
  },
  {
   "cell_type": "code",
   "execution_count": 350,
   "metadata": {},
   "outputs": [
    {
     "data": {
      "text/plain": [
       "DecisionTreeRegressor(criterion='mse', max_depth=None, max_features=None,\n",
       "                      max_leaf_nodes=None, min_impurity_decrease=0.0,\n",
       "                      min_impurity_split=None, min_samples_leaf=3,\n",
       "                      min_samples_split=2, min_weight_fraction_leaf=0.0,\n",
       "                      presort=False, random_state=None, splitter='best')"
      ]
     },
     "execution_count": 350,
     "metadata": {},
     "output_type": "execute_result"
    }
   ],
   "source": [
    "regressor = DecisionTreeRegressor(min_samples_leaf=3)\n",
    "regressor.fit(X_train, y_train)"
   ]
  },
  {
   "cell_type": "code",
   "execution_count": 356,
   "metadata": {},
   "outputs": [
    {
     "name": "stdout",
     "output_type": "stream",
     "text": [
      "11452806944.283335\n"
     ]
    }
   ],
   "source": [
    "rhat_train = regressor.predict(X_train)\n",
    "mse_regressor_train = mean_squared_error(y_train,rhat_train)\n",
    "print(mse_regressor_train)"
   ]
  },
  {
   "cell_type": "code",
   "execution_count": 358,
   "metadata": {},
   "outputs": [
    {
     "data": {
      "text/plain": [
       "0.7772599160502824"
      ]
     },
     "execution_count": 358,
     "metadata": {},
     "output_type": "execute_result"
    }
   ],
   "source": [
    "r2_score(y_train,rhat_train)"
   ]
  },
  {
   "cell_type": "code",
   "execution_count": 359,
   "metadata": {},
   "outputs": [
    {
     "name": "stdout",
     "output_type": "stream",
     "text": [
      "13816323024.66889\n"
     ]
    }
   ],
   "source": [
    "rhat_test = regressor.predict(X_test)\n",
    "mse_regressor_test = mean_squared_error(y_test,rhat_test)\n",
    "print(mse_regressor_test)\n"
   ]
  },
  {
   "cell_type": "code",
   "execution_count": 360,
   "metadata": {},
   "outputs": [
    {
     "data": {
      "text/plain": [
       "0.23419106139752144"
      ]
     },
     "execution_count": 360,
     "metadata": {},
     "output_type": "execute_result"
    }
   ],
   "source": [
    "r2_score(y_test,rhat_test)"
   ]
  },
  {
   "cell_type": "code",
   "execution_count": null,
   "metadata": {},
   "outputs": [],
   "source": []
  },
  {
   "cell_type": "markdown",
   "metadata": {},
   "source": [
    "## Add Polynomial Features "
   ]
  },
  {
   "cell_type": "code",
   "execution_count": 361,
   "metadata": {},
   "outputs": [],
   "source": [
    "from sklearn.preprocessing import PolynomialFeatures"
   ]
  },
  {
   "cell_type": "code",
   "execution_count": 362,
   "metadata": {},
   "outputs": [],
   "source": [
    "poly = PolynomialFeatures(2)"
   ]
  },
  {
   "cell_type": "code",
   "execution_count": 363,
   "metadata": {},
   "outputs": [],
   "source": [
    "X_poly = poly.fit_transform(X_clean)"
   ]
  },
  {
   "cell_type": "code",
   "execution_count": 364,
   "metadata": {},
   "outputs": [],
   "source": [
    "X_train, X_test, y_train, y_test = train_test_split(X_poly,y, test_size=.2, random_state=42)"
   ]
  },
  {
   "cell_type": "markdown",
   "metadata": {},
   "source": [
    "### Linear Regression"
   ]
  },
  {
   "cell_type": "code",
   "execution_count": 391,
   "metadata": {},
   "outputs": [
    {
     "data": {
      "text/plain": [
       "LinearRegression(copy_X=True, fit_intercept=True, n_jobs=None, normalize=False)"
      ]
     },
     "execution_count": 391,
     "metadata": {},
     "output_type": "execute_result"
    }
   ],
   "source": [
    "lm = LinearRegression(fit_intercept=True, normalize=False)\n",
    "lm.fit(X_train, y_train)"
   ]
  },
  {
   "cell_type": "code",
   "execution_count": 392,
   "metadata": {},
   "outputs": [
    {
     "name": "stdout",
     "output_type": "stream",
     "text": [
      "81.14440552575785\n"
     ]
    }
   ],
   "source": [
    "yhat_train = lm.predict(X_train)\n",
    "mse_lm_train = mean_squared_error(y_train, yhat_train)\n",
    "print(mse_lm_train)"
   ]
  },
  {
   "cell_type": "code",
   "execution_count": 393,
   "metadata": {},
   "outputs": [
    {
     "data": {
      "text/plain": [
       "0.9999999984218618"
      ]
     },
     "execution_count": 393,
     "metadata": {},
     "output_type": "execute_result"
    }
   ],
   "source": [
    "r2_score(y_train,yhat_train)"
   ]
  },
  {
   "cell_type": "code",
   "execution_count": 394,
   "metadata": {},
   "outputs": [
    {
     "name": "stdout",
     "output_type": "stream",
     "text": [
      "1785485700055740.2\n"
     ]
    }
   ],
   "source": [
    "yhat_test = lm.predict(X_test)\n",
    "mse_lm_test = mean_squared_error(y_test, yhat_test)\n",
    "print(mse_lm_test)"
   ]
  },
  {
   "cell_type": "code",
   "execution_count": 395,
   "metadata": {
    "scrolled": true
   },
   "outputs": [
    {
     "data": {
      "text/plain": [
       "-98964.61526595881"
      ]
     },
     "execution_count": 395,
     "metadata": {},
     "output_type": "execute_result"
    }
   ],
   "source": [
    "r2_score(y_test,yhat_test)"
   ]
  },
  {
   "cell_type": "markdown",
   "metadata": {},
   "source": [
    "### Lasso Regression "
   ]
  },
  {
   "cell_type": "code",
   "execution_count": 396,
   "metadata": {},
   "outputs": [],
   "source": [
    "lasso = Lasso(alpha=152)"
   ]
  },
  {
   "cell_type": "code",
   "execution_count": 397,
   "metadata": {},
   "outputs": [
    {
     "data": {
      "text/plain": [
       "Lasso(alpha=152, copy_X=True, fit_intercept=True, max_iter=1000,\n",
       "      normalize=False, positive=False, precompute=False, random_state=None,\n",
       "      selection='cyclic', tol=0.0001, warm_start=False)"
      ]
     },
     "execution_count": 397,
     "metadata": {},
     "output_type": "execute_result"
    }
   ],
   "source": [
    "lasso.fit(X_train, y_train)"
   ]
  },
  {
   "cell_type": "code",
   "execution_count": 398,
   "metadata": {},
   "outputs": [
    {
     "name": "stdout",
     "output_type": "stream",
     "text": [
      "398994343.39644694\n"
     ]
    }
   ],
   "source": [
    "lhat_train = lasso.predict(X_train)\n",
    "mse_lasso_train = mean_squared_error(y_train, lhat_train)\n",
    "print(mse_lasso_train)"
   ]
  },
  {
   "cell_type": "code",
   "execution_count": 399,
   "metadata": {},
   "outputs": [
    {
     "data": {
      "text/plain": [
       "0.9922401526563802"
      ]
     },
     "execution_count": 399,
     "metadata": {},
     "output_type": "execute_result"
    }
   ],
   "source": [
    "r2_score(y_train,lhat_train)"
   ]
  },
  {
   "cell_type": "code",
   "execution_count": 400,
   "metadata": {},
   "outputs": [
    {
     "name": "stdout",
     "output_type": "stream",
     "text": [
      "25413352816.033394\n"
     ]
    }
   ],
   "source": [
    "lhat_test = lasso.predict(X_test)\n",
    "mse_lasso_test = mean_squared_error(y_test, lhat_test)\n",
    "print(mse_lasso_test)"
   ]
  },
  {
   "cell_type": "code",
   "execution_count": 401,
   "metadata": {
    "scrolled": true
   },
   "outputs": [
    {
     "data": {
      "text/plain": [
       "-0.4086072475019631"
      ]
     },
     "execution_count": 401,
     "metadata": {},
     "output_type": "execute_result"
    }
   ],
   "source": [
    "r2_score(y_test,lhat_test)"
   ]
  },
  {
   "cell_type": "code",
   "execution_count": null,
   "metadata": {},
   "outputs": [],
   "source": []
  },
  {
   "cell_type": "markdown",
   "metadata": {},
   "source": [
    "### K Nearest Neighbors Regression "
   ]
  },
  {
   "cell_type": "code",
   "execution_count": 386,
   "metadata": {},
   "outputs": [
    {
     "data": {
      "text/plain": [
       "KNeighborsRegressor(algorithm='auto', leaf_size=30, metric='minkowski',\n",
       "                    metric_params=None, n_jobs=None, n_neighbors=10, p=2,\n",
       "                    weights='uniform')"
      ]
     },
     "execution_count": 386,
     "metadata": {},
     "output_type": "execute_result"
    }
   ],
   "source": [
    "knn = KNeighborsRegressor(n_neighbors=10)\n",
    "knn.fit(X_train, y_train)"
   ]
  },
  {
   "cell_type": "code",
   "execution_count": 387,
   "metadata": {},
   "outputs": [
    {
     "name": "stdout",
     "output_type": "stream",
     "text": [
      "33291732617.879875\n"
     ]
    }
   ],
   "source": [
    "yhat_knn_train = knn.predict(X_train)\n",
    "mse_knn_train = mean_squared_error(y_train, yhat_knn_train)\n",
    "print(mse_knn_train)"
   ]
  },
  {
   "cell_type": "code",
   "execution_count": 388,
   "metadata": {},
   "outputs": [
    {
     "data": {
      "text/plain": [
       "0.35252524955556763"
      ]
     },
     "execution_count": 388,
     "metadata": {},
     "output_type": "execute_result"
    }
   ],
   "source": [
    "r2_score(y_train,yhat_knn_train)"
   ]
  },
  {
   "cell_type": "code",
   "execution_count": 389,
   "metadata": {},
   "outputs": [
    {
     "name": "stdout",
     "output_type": "stream",
     "text": [
      "11461401085.582249\n"
     ]
    }
   ],
   "source": [
    "yhat_knn_test = knn.predict(X_test)\n",
    "mse_knn_test = mean_squared_error(y_test, yhat_knn_test)\n",
    "print(mse_knn_test)"
   ]
  },
  {
   "cell_type": "code",
   "execution_count": 390,
   "metadata": {
    "scrolled": true
   },
   "outputs": [
    {
     "data": {
      "text/plain": [
       "0.36471929727067265"
      ]
     },
     "execution_count": 390,
     "metadata": {},
     "output_type": "execute_result"
    }
   ],
   "source": [
    "r2_score(y_test,yhat_knn_test)"
   ]
  },
  {
   "cell_type": "markdown",
   "metadata": {},
   "source": [
    "### Decision Tree Regression "
   ]
  },
  {
   "cell_type": "code",
   "execution_count": 402,
   "metadata": {},
   "outputs": [
    {
     "data": {
      "text/plain": [
       "DecisionTreeRegressor(criterion='mse', max_depth=None, max_features=None,\n",
       "                      max_leaf_nodes=None, min_impurity_decrease=0.0,\n",
       "                      min_impurity_split=None, min_samples_leaf=3,\n",
       "                      min_samples_split=2, min_weight_fraction_leaf=0.0,\n",
       "                      presort=False, random_state=None, splitter='best')"
      ]
     },
     "execution_count": 402,
     "metadata": {},
     "output_type": "execute_result"
    }
   ],
   "source": [
    "regressor = DecisionTreeRegressor(min_samples_leaf=3)\n",
    "regressor.fit(X_train, y_train)"
   ]
  },
  {
   "cell_type": "code",
   "execution_count": 403,
   "metadata": {},
   "outputs": [
    {
     "name": "stdout",
     "output_type": "stream",
     "text": [
      "10110095308.092709\n"
     ]
    }
   ],
   "source": [
    "rhat_train = regressor.predict(X_train)\n",
    "mse_regressor_train = mean_squared_error(y_train,rhat_train)\n",
    "print(mse_regressor_train)"
   ]
  },
  {
   "cell_type": "code",
   "execution_count": 404,
   "metadata": {},
   "outputs": [
    {
     "data": {
      "text/plain": [
       "0.803373663013829"
      ]
     },
     "execution_count": 404,
     "metadata": {},
     "output_type": "execute_result"
    }
   ],
   "source": [
    "r2_score(y_train,rhat_train)"
   ]
  },
  {
   "cell_type": "code",
   "execution_count": 405,
   "metadata": {},
   "outputs": [
    {
     "name": "stdout",
     "output_type": "stream",
     "text": [
      "10498149273.08941\n"
     ]
    }
   ],
   "source": [
    "rhat_test = regressor.predict(X_test)\n",
    "mse_regressor_test = mean_squared_error(y_test,rhat_test)\n",
    "print(mse_regressor_test)\n"
   ]
  },
  {
   "cell_type": "code",
   "execution_count": 406,
   "metadata": {},
   "outputs": [
    {
     "data": {
      "text/plain": [
       "0.41811026437638954"
      ]
     },
     "execution_count": 406,
     "metadata": {},
     "output_type": "execute_result"
    }
   ],
   "source": [
    "r2_score(y_test,rhat_test)"
   ]
  },
  {
   "cell_type": "markdown",
   "metadata": {},
   "source": [
    "## Standard Scaler "
   ]
  },
  {
   "cell_type": "code",
   "execution_count": 411,
   "metadata": {},
   "outputs": [],
   "source": [
    "from sklearn.preprocessing import StandardScaler"
   ]
  },
  {
   "cell_type": "code",
   "execution_count": 412,
   "metadata": {},
   "outputs": [],
   "source": [
    "scaler = StandardScaler()"
   ]
  },
  {
   "cell_type": "code",
   "execution_count": 437,
   "metadata": {},
   "outputs": [],
   "source": [
    "X_scaler = scaler.fit_transform(X_clean)"
   ]
  },
  {
   "cell_type": "code",
   "execution_count": 438,
   "metadata": {},
   "outputs": [],
   "source": [
    "X_train, X_test, y_train, y_test = train_test_split(X_scaler,y, test_size=.2, random_state=42)"
   ]
  },
  {
   "cell_type": "markdown",
   "metadata": {},
   "source": [
    "### Linear Regression"
   ]
  },
  {
   "cell_type": "code",
   "execution_count": 439,
   "metadata": {},
   "outputs": [
    {
     "data": {
      "text/plain": [
       "LinearRegression(copy_X=True, fit_intercept=True, n_jobs=None, normalize=False)"
      ]
     },
     "execution_count": 439,
     "metadata": {},
     "output_type": "execute_result"
    }
   ],
   "source": [
    "lm = LinearRegression(fit_intercept=True, normalize=False)\n",
    "lm.fit(X_train, y_train)"
   ]
  },
  {
   "cell_type": "code",
   "execution_count": 440,
   "metadata": {},
   "outputs": [
    {
     "name": "stdout",
     "output_type": "stream",
     "text": [
      "5728882144.65625\n"
     ]
    }
   ],
   "source": [
    "yhat_train = lm.predict(X_train)\n",
    "mse_lm_train = mean_squared_error(y_train, yhat_train)\n",
    "print(mse_lm_train)"
   ]
  },
  {
   "cell_type": "code",
   "execution_count": 441,
   "metadata": {},
   "outputs": [
    {
     "data": {
      "text/plain": [
       "0.8885817515263617"
      ]
     },
     "execution_count": 441,
     "metadata": {},
     "output_type": "execute_result"
    }
   ],
   "source": [
    "r2_score(y_train,yhat_train)"
   ]
  },
  {
   "cell_type": "code",
   "execution_count": 442,
   "metadata": {},
   "outputs": [
    {
     "name": "stdout",
     "output_type": "stream",
     "text": [
      "1.7362469560887756e+38\n"
     ]
    }
   ],
   "source": [
    "yhat_test = lm.predict(X_test)\n",
    "mse_lm_test = mean_squared_error(y_test, yhat_test)\n",
    "print(mse_lm_test)"
   ]
  },
  {
   "cell_type": "code",
   "execution_count": 443,
   "metadata": {
    "scrolled": true
   },
   "outputs": [
    {
     "data": {
      "text/plain": [
       "-9.623641805566386e+27"
      ]
     },
     "execution_count": 443,
     "metadata": {},
     "output_type": "execute_result"
    }
   ],
   "source": [
    "r2_score(y_test,yhat_test)"
   ]
  },
  {
   "cell_type": "markdown",
   "metadata": {},
   "source": [
    "### Lasso Regression "
   ]
  },
  {
   "cell_type": "code",
   "execution_count": 444,
   "metadata": {},
   "outputs": [],
   "source": [
    "lasso = Lasso(alpha=152)"
   ]
  },
  {
   "cell_type": "code",
   "execution_count": 445,
   "metadata": {},
   "outputs": [
    {
     "data": {
      "text/plain": [
       "Lasso(alpha=152, copy_X=True, fit_intercept=True, max_iter=1000,\n",
       "      normalize=False, positive=False, precompute=False, random_state=None,\n",
       "      selection='cyclic', tol=0.0001, warm_start=False)"
      ]
     },
     "execution_count": 445,
     "metadata": {},
     "output_type": "execute_result"
    }
   ],
   "source": [
    "lasso.fit(X_train, y_train)"
   ]
  },
  {
   "cell_type": "code",
   "execution_count": 446,
   "metadata": {},
   "outputs": [
    {
     "name": "stdout",
     "output_type": "stream",
     "text": [
      "5605558479.719356\n"
     ]
    }
   ],
   "source": [
    "lhat_train = lasso.predict(X_train)\n",
    "mse_lasso_train = mean_squared_error(y_train, lhat_train)\n",
    "print(mse_lasso_train)"
   ]
  },
  {
   "cell_type": "code",
   "execution_count": 447,
   "metadata": {},
   "outputs": [
    {
     "data": {
      "text/plain": [
       "0.8909802136339188"
      ]
     },
     "execution_count": 447,
     "metadata": {},
     "output_type": "execute_result"
    }
   ],
   "source": [
    "r2_score(y_train,lhat_train)"
   ]
  },
  {
   "cell_type": "code",
   "execution_count": 448,
   "metadata": {},
   "outputs": [
    {
     "name": "stdout",
     "output_type": "stream",
     "text": [
      "4426826515.345859\n"
     ]
    }
   ],
   "source": [
    "lhat_test = lasso.predict(X_test)\n",
    "mse_lasso_test = mean_squared_error(y_test, lhat_test)\n",
    "print(mse_lasso_test)"
   ]
  },
  {
   "cell_type": "code",
   "execution_count": 449,
   "metadata": {
    "scrolled": true
   },
   "outputs": [
    {
     "data": {
      "text/plain": [
       "0.754630569288129"
      ]
     },
     "execution_count": 449,
     "metadata": {},
     "output_type": "execute_result"
    }
   ],
   "source": [
    "r2_score(y_test,lhat_test)"
   ]
  },
  {
   "cell_type": "code",
   "execution_count": null,
   "metadata": {},
   "outputs": [],
   "source": []
  },
  {
   "cell_type": "markdown",
   "metadata": {},
   "source": [
    "### K Nearest Neighbors Regression "
   ]
  },
  {
   "cell_type": "code",
   "execution_count": 450,
   "metadata": {},
   "outputs": [
    {
     "data": {
      "text/plain": [
       "KNeighborsRegressor(algorithm='auto', leaf_size=30, metric='minkowski',\n",
       "                    metric_params=None, n_jobs=None, n_neighbors=10, p=2,\n",
       "                    weights='uniform')"
      ]
     },
     "execution_count": 450,
     "metadata": {},
     "output_type": "execute_result"
    }
   ],
   "source": [
    "knn = KNeighborsRegressor(n_neighbors=10)\n",
    "knn.fit(X_train, y_train)"
   ]
  },
  {
   "cell_type": "code",
   "execution_count": 451,
   "metadata": {},
   "outputs": [
    {
     "name": "stdout",
     "output_type": "stream",
     "text": [
      "31371522027.783813\n"
     ]
    }
   ],
   "source": [
    "yhat_knn_train = knn.predict(X_train)\n",
    "mse_knn_train = mean_squared_error(y_train, yhat_knn_train)\n",
    "print(mse_knn_train)"
   ]
  },
  {
   "cell_type": "code",
   "execution_count": 428,
   "metadata": {},
   "outputs": [
    {
     "data": {
      "text/plain": [
       "0.38987049340014535"
      ]
     },
     "execution_count": 428,
     "metadata": {},
     "output_type": "execute_result"
    }
   ],
   "source": [
    "r2_score(y_train,yhat_knn_train)"
   ]
  },
  {
   "cell_type": "code",
   "execution_count": 429,
   "metadata": {},
   "outputs": [
    {
     "name": "stdout",
     "output_type": "stream",
     "text": [
      "10571846691.244501\n"
     ]
    }
   ],
   "source": [
    "yhat_knn_test = knn.predict(X_test)\n",
    "mse_knn_test = mean_squared_error(y_test, yhat_knn_test)\n",
    "print(mse_knn_test)"
   ]
  },
  {
   "cell_type": "code",
   "execution_count": 430,
   "metadata": {
    "scrolled": true
   },
   "outputs": [
    {
     "data": {
      "text/plain": [
       "0.4140253756925969"
      ]
     },
     "execution_count": 430,
     "metadata": {},
     "output_type": "execute_result"
    }
   ],
   "source": [
    "r2_score(y_test,yhat_knn_test)"
   ]
  },
  {
   "cell_type": "markdown",
   "metadata": {},
   "source": [
    "### Decision Tree Regression "
   ]
  },
  {
   "cell_type": "code",
   "execution_count": 431,
   "metadata": {},
   "outputs": [
    {
     "data": {
      "text/plain": [
       "DecisionTreeRegressor(criterion='mse', max_depth=None, max_features=None,\n",
       "                      max_leaf_nodes=None, min_impurity_decrease=0.0,\n",
       "                      min_impurity_split=None, min_samples_leaf=3,\n",
       "                      min_samples_split=2, min_weight_fraction_leaf=0.0,\n",
       "                      presort=False, random_state=None, splitter='best')"
      ]
     },
     "execution_count": 431,
     "metadata": {},
     "output_type": "execute_result"
    }
   ],
   "source": [
    "regressor = DecisionTreeRegressor(min_samples_leaf=3)\n",
    "regressor.fit(X_train, y_train)"
   ]
  },
  {
   "cell_type": "code",
   "execution_count": 432,
   "metadata": {},
   "outputs": [
    {
     "name": "stdout",
     "output_type": "stream",
     "text": [
      "11452806944.283335\n"
     ]
    }
   ],
   "source": [
    "rhat_train = regressor.predict(X_train)\n",
    "mse_regressor_train = mean_squared_error(y_train,rhat_train)\n",
    "print(mse_regressor_train)"
   ]
  },
  {
   "cell_type": "code",
   "execution_count": 433,
   "metadata": {},
   "outputs": [
    {
     "data": {
      "text/plain": [
       "0.7772599160502824"
      ]
     },
     "execution_count": 433,
     "metadata": {},
     "output_type": "execute_result"
    }
   ],
   "source": [
    "r2_score(y_train,rhat_train)"
   ]
  },
  {
   "cell_type": "code",
   "execution_count": 434,
   "metadata": {},
   "outputs": [
    {
     "name": "stdout",
     "output_type": "stream",
     "text": [
      "13771299413.55778\n"
     ]
    }
   ],
   "source": [
    "rhat_test = regressor.predict(X_test)\n",
    "mse_regressor_test = mean_squared_error(y_test,rhat_test)\n",
    "print(mse_regressor_test)\n"
   ]
  },
  {
   "cell_type": "code",
   "execution_count": 435,
   "metadata": {},
   "outputs": [
    {
     "data": {
      "text/plain": [
       "0.23668662289933984"
      ]
     },
     "execution_count": 435,
     "metadata": {},
     "output_type": "execute_result"
    }
   ],
   "source": [
    "r2_score(y_test,rhat_test)"
   ]
  },
  {
   "cell_type": "code",
   "execution_count": null,
   "metadata": {},
   "outputs": [],
   "source": []
  },
  {
   "cell_type": "code",
   "execution_count": null,
   "metadata": {},
   "outputs": [],
   "source": []
  },
  {
   "cell_type": "code",
   "execution_count": null,
   "metadata": {},
   "outputs": [],
   "source": []
  },
  {
   "cell_type": "code",
   "execution_count": null,
   "metadata": {},
   "outputs": [],
   "source": []
  },
  {
   "cell_type": "code",
   "execution_count": null,
   "metadata": {},
   "outputs": [],
   "source": []
  },
  {
   "cell_type": "code",
   "execution_count": null,
   "metadata": {},
   "outputs": [],
   "source": []
  },
  {
   "cell_type": "code",
   "execution_count": null,
   "metadata": {},
   "outputs": [],
   "source": []
  },
  {
   "cell_type": "code",
   "execution_count": null,
   "metadata": {},
   "outputs": [],
   "source": []
  },
  {
   "cell_type": "code",
   "execution_count": null,
   "metadata": {},
   "outputs": [],
   "source": []
  },
  {
   "cell_type": "code",
   "execution_count": null,
   "metadata": {},
   "outputs": [],
   "source": []
  },
  {
   "cell_type": "code",
   "execution_count": null,
   "metadata": {},
   "outputs": [],
   "source": []
  },
  {
   "cell_type": "code",
   "execution_count": null,
   "metadata": {},
   "outputs": [],
   "source": []
  }
 ],
 "metadata": {
  "kernelspec": {
   "display_name": "Python 3",
   "language": "python",
   "name": "python3"
  },
  "language_info": {
   "codemirror_mode": {
    "name": "ipython",
    "version": 3
   },
   "file_extension": ".py",
   "mimetype": "text/x-python",
   "name": "python",
   "nbconvert_exporter": "python",
   "pygments_lexer": "ipython3",
   "version": "3.7.4"
  }
 },
 "nbformat": 4,
 "nbformat_minor": 2
}
